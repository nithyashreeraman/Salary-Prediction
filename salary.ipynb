{
 "cells": [
  {
   "cell_type": "code",
   "execution_count": 3,
   "id": "b80d919b",
   "metadata": {},
   "outputs": [],
   "source": [
    "# Problem Statement - Given the dataset which captures\n",
    "# gross salary of the employees and by training with \n",
    "# such data we want to\n",
    "# predict salary of the employees in the test data."
   ]
  },
  {
   "cell_type": "code",
   "execution_count": 4,
   "id": "8a0d49c2",
   "metadata": {},
   "outputs": [],
   "source": [
    "# Outlines\n",
    "# 1. Import Libraries\n",
    "# 2. Import Dataset\n",
    "# 3. Data cleaning and data preparation\n",
    "# 4. exploratory data analysis\n",
    "# 5. feature engineering\n",
    "# 6. train test data\n",
    "# 7. model building\n",
    "# 8. model evaluation"
   ]
  },
  {
   "cell_type": "code",
   "execution_count": 5,
   "id": "4b77ee48",
   "metadata": {},
   "outputs": [],
   "source": [
    "import pandas as pd\n",
    "import numpy as np\n",
    "\n",
    "import matplotlib.pyplot as plt\n",
    "import seaborn as sns\n",
    "import warnings\n",
    "warnings.filterwarnings('ignore')\n",
    "\n",
    "from sklearn.linear_model import LinearRegression\n",
    "from sklearn.model_selection import train_test_split\n"
   ]
  },
  {
   "cell_type": "code",
   "execution_count": 6,
   "id": "9f45ece7",
   "metadata": {},
   "outputs": [],
   "source": [
    "salary=pd.read_csv('train_salary.csv')"
   ]
  },
  {
   "cell_type": "code",
   "execution_count": 7,
   "id": "42bb6857",
   "metadata": {},
   "outputs": [
    {
     "data": {
      "text/html": [
       "<div>\n",
       "<style scoped>\n",
       "    .dataframe tbody tr th:only-of-type {\n",
       "        vertical-align: middle;\n",
       "    }\n",
       "\n",
       "    .dataframe tbody tr th {\n",
       "        vertical-align: top;\n",
       "    }\n",
       "\n",
       "    .dataframe thead th {\n",
       "        text-align: right;\n",
       "    }\n",
       "</style>\n",
       "<table border=\"1\" class=\"dataframe\">\n",
       "  <thead>\n",
       "    <tr style=\"text-align: right;\">\n",
       "      <th></th>\n",
       "      <th>Name</th>\n",
       "      <th>JobTitle</th>\n",
       "      <th>AgencyID</th>\n",
       "      <th>Agency</th>\n",
       "      <th>HireDate</th>\n",
       "      <th>AnnualSalary</th>\n",
       "      <th>GrossPay</th>\n",
       "    </tr>\n",
       "  </thead>\n",
       "  <tbody>\n",
       "    <tr>\n",
       "      <th>0</th>\n",
       "      <td>Aaron,Keontae E</td>\n",
       "      <td>AIDE BLUE CHIP</td>\n",
       "      <td>W02200</td>\n",
       "      <td>Youth Summer</td>\n",
       "      <td>06/10/2013</td>\n",
       "      <td>$11310.00</td>\n",
       "      <td>$873.63</td>\n",
       "    </tr>\n",
       "    <tr>\n",
       "      <th>1</th>\n",
       "      <td>Aaron,Patricia G</td>\n",
       "      <td>Facilities/Office Services II</td>\n",
       "      <td>A03031</td>\n",
       "      <td>OED-Employment Dev</td>\n",
       "      <td>10/24/1979</td>\n",
       "      <td>$53428.00</td>\n",
       "      <td>$52868.38</td>\n",
       "    </tr>\n",
       "    <tr>\n",
       "      <th>2</th>\n",
       "      <td>Aaron,Petra L</td>\n",
       "      <td>ASSISTANT STATE'S ATTORNEY</td>\n",
       "      <td>A29005</td>\n",
       "      <td>States Attorneys Office</td>\n",
       "      <td>09/25/2006</td>\n",
       "      <td>$68300.00</td>\n",
       "      <td>$67439.19</td>\n",
       "    </tr>\n",
       "    <tr>\n",
       "      <th>3</th>\n",
       "      <td>Abaineh,Yohannes T</td>\n",
       "      <td>EPIDEMIOLOGIST</td>\n",
       "      <td>A65026</td>\n",
       "      <td>HLTH-Health Department</td>\n",
       "      <td>07/23/2009</td>\n",
       "      <td>$62000.00</td>\n",
       "      <td>$58654.74</td>\n",
       "    </tr>\n",
       "    <tr>\n",
       "      <th>4</th>\n",
       "      <td>Abbene,Anthony M</td>\n",
       "      <td>POLICE OFFICER TRAINEE</td>\n",
       "      <td>A99416</td>\n",
       "      <td>Police Department</td>\n",
       "      <td>07/24/2013</td>\n",
       "      <td>$43999.00</td>\n",
       "      <td>$39686.95</td>\n",
       "    </tr>\n",
       "    <tr>\n",
       "      <th>...</th>\n",
       "      <td>...</td>\n",
       "      <td>...</td>\n",
       "      <td>...</td>\n",
       "      <td>...</td>\n",
       "      <td>...</td>\n",
       "      <td>...</td>\n",
       "      <td>...</td>\n",
       "    </tr>\n",
       "    <tr>\n",
       "      <th>18976</th>\n",
       "      <td>Zotamou,Jean Marie D</td>\n",
       "      <td>AIDE BLUE CHIP</td>\n",
       "      <td>W02235</td>\n",
       "      <td>Youth Summer</td>\n",
       "      <td>05/21/2014</td>\n",
       "      <td>$11310.00</td>\n",
       "      <td>NaN</td>\n",
       "    </tr>\n",
       "    <tr>\n",
       "      <th>18977</th>\n",
       "      <td>Zotamou,Pivot D</td>\n",
       "      <td>AIDE BLUE CHIP</td>\n",
       "      <td>W02629</td>\n",
       "      <td>Youth Summer</td>\n",
       "      <td>05/21/2014</td>\n",
       "      <td>$11310.00</td>\n",
       "      <td>NaN</td>\n",
       "    </tr>\n",
       "    <tr>\n",
       "      <th>18978</th>\n",
       "      <td>Zovistoski,Zachary D</td>\n",
       "      <td>POLICE OFFICER TRAINEE</td>\n",
       "      <td>A99416</td>\n",
       "      <td>Police Department</td>\n",
       "      <td>12/17/2013</td>\n",
       "      <td>$43999.00</td>\n",
       "      <td>$21070.03</td>\n",
       "    </tr>\n",
       "    <tr>\n",
       "      <th>18979</th>\n",
       "      <td>Zubyk,Stanislav T</td>\n",
       "      <td>POLICE OFFICER</td>\n",
       "      <td>A99262</td>\n",
       "      <td>Police Department</td>\n",
       "      <td>01/23/2013</td>\n",
       "      <td>$44104.00</td>\n",
       "      <td>$48608.12</td>\n",
       "    </tr>\n",
       "    <tr>\n",
       "      <th>18980</th>\n",
       "      <td>Zukowski,Charles J</td>\n",
       "      <td>Waste Water Tech Supv I Pump</td>\n",
       "      <td>A50206</td>\n",
       "      <td>DPW-Water &amp; Waste Water</td>\n",
       "      <td>10/15/1979</td>\n",
       "      <td>$53568.00</td>\n",
       "      <td>$52164.32</td>\n",
       "    </tr>\n",
       "  </tbody>\n",
       "</table>\n",
       "<p>18981 rows × 7 columns</p>\n",
       "</div>"
      ],
      "text/plain": [
       "                       Name                       JobTitle AgencyID  \\\n",
       "0           Aaron,Keontae E                 AIDE BLUE CHIP   W02200   \n",
       "1          Aaron,Patricia G  Facilities/Office Services II   A03031   \n",
       "2             Aaron,Petra L     ASSISTANT STATE'S ATTORNEY   A29005   \n",
       "3        Abaineh,Yohannes T                 EPIDEMIOLOGIST   A65026   \n",
       "4          Abbene,Anthony M         POLICE OFFICER TRAINEE   A99416   \n",
       "...                     ...                            ...      ...   \n",
       "18976  Zotamou,Jean Marie D                 AIDE BLUE CHIP   W02235   \n",
       "18977       Zotamou,Pivot D                 AIDE BLUE CHIP   W02629   \n",
       "18978  Zovistoski,Zachary D         POLICE OFFICER TRAINEE   A99416   \n",
       "18979     Zubyk,Stanislav T                 POLICE OFFICER   A99262   \n",
       "18980    Zukowski,Charles J   Waste Water Tech Supv I Pump   A50206   \n",
       "\n",
       "                         Agency    HireDate AnnualSalary   GrossPay  \n",
       "0                Youth Summer    06/10/2013    $11310.00    $873.63  \n",
       "1           OED-Employment Dev   10/24/1979    $53428.00  $52868.38  \n",
       "2      States Attorneys Office   09/25/2006    $68300.00  $67439.19  \n",
       "3       HLTH-Health Department   07/23/2009    $62000.00  $58654.74  \n",
       "4            Police Department   07/24/2013    $43999.00  $39686.95  \n",
       "...                         ...         ...          ...        ...  \n",
       "18976            Youth Summer    05/21/2014    $11310.00        NaN  \n",
       "18977             Youth Summer   05/21/2014    $11310.00        NaN  \n",
       "18978        Police Department   12/17/2013    $43999.00  $21070.03  \n",
       "18979        Police Department   01/23/2013    $44104.00  $48608.12  \n",
       "18980  DPW-Water & Waste Water   10/15/1979    $53568.00  $52164.32  \n",
       "\n",
       "[18981 rows x 7 columns]"
      ]
     },
     "execution_count": 7,
     "metadata": {},
     "output_type": "execute_result"
    }
   ],
   "source": [
    "salary"
   ]
  },
  {
   "cell_type": "code",
   "execution_count": 8,
   "id": "31c5e2f2",
   "metadata": {},
   "outputs": [
    {
     "name": "stdout",
     "output_type": "stream",
     "text": [
      "<class 'pandas.core.frame.DataFrame'>\n",
      "RangeIndex: 18981 entries, 0 to 18980\n",
      "Data columns (total 7 columns):\n",
      " #   Column        Non-Null Count  Dtype \n",
      "---  ------        --------------  ----- \n",
      " 0    Name         18981 non-null  object\n",
      " 1   JobTitle      18981 non-null  object\n",
      " 2   AgencyID      18981 non-null  object\n",
      " 3   Agency        18981 non-null  object\n",
      " 4   HireDate      18911 non-null  object\n",
      " 5   AnnualSalary  18981 non-null  object\n",
      " 6   GrossPay      15758 non-null  object\n",
      "dtypes: object(7)\n",
      "memory usage: 1.0+ MB\n"
     ]
    }
   ],
   "source": [
    "salary.info()"
   ]
  },
  {
   "cell_type": "code",
   "execution_count": 9,
   "id": "6fa786b0",
   "metadata": {},
   "outputs": [],
   "source": [
    "# intrepretation:\n",
    "    \n",
    "# 1. 18981 rows\n",
    "# 2. total 7 columns\n",
    "# 3. all 7 are object"
   ]
  },
  {
   "cell_type": "code",
   "execution_count": 10,
   "id": "5d2a04c7",
   "metadata": {},
   "outputs": [],
   "source": [
    "df=salary.copy()  #we should not change original data\n",
    "\n",
    "#to make changes in the data copy it"
   ]
  },
  {
   "cell_type": "code",
   "execution_count": 11,
   "id": "a06cb358",
   "metadata": {},
   "outputs": [
    {
     "data": {
      "text/html": [
       "<div>\n",
       "<style scoped>\n",
       "    .dataframe tbody tr th:only-of-type {\n",
       "        vertical-align: middle;\n",
       "    }\n",
       "\n",
       "    .dataframe tbody tr th {\n",
       "        vertical-align: top;\n",
       "    }\n",
       "\n",
       "    .dataframe thead th {\n",
       "        text-align: right;\n",
       "    }\n",
       "</style>\n",
       "<table border=\"1\" class=\"dataframe\">\n",
       "  <thead>\n",
       "    <tr style=\"text-align: right;\">\n",
       "      <th></th>\n",
       "      <th>Name</th>\n",
       "      <th>JobTitle</th>\n",
       "      <th>AgencyID</th>\n",
       "      <th>Agency</th>\n",
       "      <th>HireDate</th>\n",
       "      <th>AnnualSalary</th>\n",
       "      <th>GrossPay</th>\n",
       "    </tr>\n",
       "  </thead>\n",
       "  <tbody>\n",
       "    <tr>\n",
       "      <th>0</th>\n",
       "      <td>Aaron,Keontae E</td>\n",
       "      <td>AIDE BLUE CHIP</td>\n",
       "      <td>W02200</td>\n",
       "      <td>Youth Summer</td>\n",
       "      <td>06/10/2013</td>\n",
       "      <td>$11310.00</td>\n",
       "      <td>$873.63</td>\n",
       "    </tr>\n",
       "    <tr>\n",
       "      <th>1</th>\n",
       "      <td>Aaron,Patricia G</td>\n",
       "      <td>Facilities/Office Services II</td>\n",
       "      <td>A03031</td>\n",
       "      <td>OED-Employment Dev</td>\n",
       "      <td>10/24/1979</td>\n",
       "      <td>$53428.00</td>\n",
       "      <td>$52868.38</td>\n",
       "    </tr>\n",
       "    <tr>\n",
       "      <th>2</th>\n",
       "      <td>Aaron,Petra L</td>\n",
       "      <td>ASSISTANT STATE'S ATTORNEY</td>\n",
       "      <td>A29005</td>\n",
       "      <td>States Attorneys Office</td>\n",
       "      <td>09/25/2006</td>\n",
       "      <td>$68300.00</td>\n",
       "      <td>$67439.19</td>\n",
       "    </tr>\n",
       "    <tr>\n",
       "      <th>3</th>\n",
       "      <td>Abaineh,Yohannes T</td>\n",
       "      <td>EPIDEMIOLOGIST</td>\n",
       "      <td>A65026</td>\n",
       "      <td>HLTH-Health Department</td>\n",
       "      <td>07/23/2009</td>\n",
       "      <td>$62000.00</td>\n",
       "      <td>$58654.74</td>\n",
       "    </tr>\n",
       "    <tr>\n",
       "      <th>4</th>\n",
       "      <td>Abbene,Anthony M</td>\n",
       "      <td>POLICE OFFICER TRAINEE</td>\n",
       "      <td>A99416</td>\n",
       "      <td>Police Department</td>\n",
       "      <td>07/24/2013</td>\n",
       "      <td>$43999.00</td>\n",
       "      <td>$39686.95</td>\n",
       "    </tr>\n",
       "    <tr>\n",
       "      <th>...</th>\n",
       "      <td>...</td>\n",
       "      <td>...</td>\n",
       "      <td>...</td>\n",
       "      <td>...</td>\n",
       "      <td>...</td>\n",
       "      <td>...</td>\n",
       "      <td>...</td>\n",
       "    </tr>\n",
       "    <tr>\n",
       "      <th>18976</th>\n",
       "      <td>Zotamou,Jean Marie D</td>\n",
       "      <td>AIDE BLUE CHIP</td>\n",
       "      <td>W02235</td>\n",
       "      <td>Youth Summer</td>\n",
       "      <td>05/21/2014</td>\n",
       "      <td>$11310.00</td>\n",
       "      <td>NaN</td>\n",
       "    </tr>\n",
       "    <tr>\n",
       "      <th>18977</th>\n",
       "      <td>Zotamou,Pivot D</td>\n",
       "      <td>AIDE BLUE CHIP</td>\n",
       "      <td>W02629</td>\n",
       "      <td>Youth Summer</td>\n",
       "      <td>05/21/2014</td>\n",
       "      <td>$11310.00</td>\n",
       "      <td>NaN</td>\n",
       "    </tr>\n",
       "    <tr>\n",
       "      <th>18978</th>\n",
       "      <td>Zovistoski,Zachary D</td>\n",
       "      <td>POLICE OFFICER TRAINEE</td>\n",
       "      <td>A99416</td>\n",
       "      <td>Police Department</td>\n",
       "      <td>12/17/2013</td>\n",
       "      <td>$43999.00</td>\n",
       "      <td>$21070.03</td>\n",
       "    </tr>\n",
       "    <tr>\n",
       "      <th>18979</th>\n",
       "      <td>Zubyk,Stanislav T</td>\n",
       "      <td>POLICE OFFICER</td>\n",
       "      <td>A99262</td>\n",
       "      <td>Police Department</td>\n",
       "      <td>01/23/2013</td>\n",
       "      <td>$44104.00</td>\n",
       "      <td>$48608.12</td>\n",
       "    </tr>\n",
       "    <tr>\n",
       "      <th>18980</th>\n",
       "      <td>Zukowski,Charles J</td>\n",
       "      <td>Waste Water Tech Supv I Pump</td>\n",
       "      <td>A50206</td>\n",
       "      <td>DPW-Water &amp; Waste Water</td>\n",
       "      <td>10/15/1979</td>\n",
       "      <td>$53568.00</td>\n",
       "      <td>$52164.32</td>\n",
       "    </tr>\n",
       "  </tbody>\n",
       "</table>\n",
       "<p>18981 rows × 7 columns</p>\n",
       "</div>"
      ],
      "text/plain": [
       "                       Name                       JobTitle AgencyID  \\\n",
       "0           Aaron,Keontae E                 AIDE BLUE CHIP   W02200   \n",
       "1          Aaron,Patricia G  Facilities/Office Services II   A03031   \n",
       "2             Aaron,Petra L     ASSISTANT STATE'S ATTORNEY   A29005   \n",
       "3        Abaineh,Yohannes T                 EPIDEMIOLOGIST   A65026   \n",
       "4          Abbene,Anthony M         POLICE OFFICER TRAINEE   A99416   \n",
       "...                     ...                            ...      ...   \n",
       "18976  Zotamou,Jean Marie D                 AIDE BLUE CHIP   W02235   \n",
       "18977       Zotamou,Pivot D                 AIDE BLUE CHIP   W02629   \n",
       "18978  Zovistoski,Zachary D         POLICE OFFICER TRAINEE   A99416   \n",
       "18979     Zubyk,Stanislav T                 POLICE OFFICER   A99262   \n",
       "18980    Zukowski,Charles J   Waste Water Tech Supv I Pump   A50206   \n",
       "\n",
       "                         Agency    HireDate AnnualSalary   GrossPay  \n",
       "0                Youth Summer    06/10/2013    $11310.00    $873.63  \n",
       "1           OED-Employment Dev   10/24/1979    $53428.00  $52868.38  \n",
       "2      States Attorneys Office   09/25/2006    $68300.00  $67439.19  \n",
       "3       HLTH-Health Department   07/23/2009    $62000.00  $58654.74  \n",
       "4            Police Department   07/24/2013    $43999.00  $39686.95  \n",
       "...                         ...         ...          ...        ...  \n",
       "18976            Youth Summer    05/21/2014    $11310.00        NaN  \n",
       "18977             Youth Summer   05/21/2014    $11310.00        NaN  \n",
       "18978        Police Department   12/17/2013    $43999.00  $21070.03  \n",
       "18979        Police Department   01/23/2013    $44104.00  $48608.12  \n",
       "18980  DPW-Water & Waste Water   10/15/1979    $53568.00  $52164.32  \n",
       "\n",
       "[18981 rows x 7 columns]"
      ]
     },
     "execution_count": 11,
     "metadata": {},
     "output_type": "execute_result"
    }
   ],
   "source": [
    "df"
   ]
  },
  {
   "cell_type": "code",
   "execution_count": 12,
   "id": "b4596fe5",
   "metadata": {},
   "outputs": [
    {
     "data": {
      "text/plain": [
       "Index([' Name', 'JobTitle', 'AgencyID', 'Agency', 'HireDate', 'AnnualSalary',\n",
       "       'GrossPay'],\n",
       "      dtype='object')"
      ]
     },
     "execution_count": 12,
     "metadata": {},
     "output_type": "execute_result"
    }
   ],
   "source": [
    "df.columns"
   ]
  },
  {
   "cell_type": "code",
   "execution_count": 13,
   "id": "cb214e47",
   "metadata": {},
   "outputs": [],
   "source": [
    "#there is a small space before 'Name' column \n",
    "#df['Name'] this gives error \n",
    "#Also we should remove dollar sign from the salary column\n",
    "\n",
    "df['AnnualSalary']=df['AnnualSalary'].apply(lambda x: float(str(x)[1:]))\n"
   ]
  },
  {
   "cell_type": "code",
   "execution_count": 14,
   "id": "302452bb",
   "metadata": {},
   "outputs": [
    {
     "data": {
      "text/html": [
       "<div>\n",
       "<style scoped>\n",
       "    .dataframe tbody tr th:only-of-type {\n",
       "        vertical-align: middle;\n",
       "    }\n",
       "\n",
       "    .dataframe tbody tr th {\n",
       "        vertical-align: top;\n",
       "    }\n",
       "\n",
       "    .dataframe thead th {\n",
       "        text-align: right;\n",
       "    }\n",
       "</style>\n",
       "<table border=\"1\" class=\"dataframe\">\n",
       "  <thead>\n",
       "    <tr style=\"text-align: right;\">\n",
       "      <th></th>\n",
       "      <th>Name</th>\n",
       "      <th>JobTitle</th>\n",
       "      <th>AgencyID</th>\n",
       "      <th>Agency</th>\n",
       "      <th>HireDate</th>\n",
       "      <th>AnnualSalary</th>\n",
       "      <th>GrossPay</th>\n",
       "    </tr>\n",
       "  </thead>\n",
       "  <tbody>\n",
       "    <tr>\n",
       "      <th>0</th>\n",
       "      <td>Aaron,Keontae E</td>\n",
       "      <td>AIDE BLUE CHIP</td>\n",
       "      <td>W02200</td>\n",
       "      <td>Youth Summer</td>\n",
       "      <td>06/10/2013</td>\n",
       "      <td>11310.0</td>\n",
       "      <td>$873.63</td>\n",
       "    </tr>\n",
       "    <tr>\n",
       "      <th>1</th>\n",
       "      <td>Aaron,Patricia G</td>\n",
       "      <td>Facilities/Office Services II</td>\n",
       "      <td>A03031</td>\n",
       "      <td>OED-Employment Dev</td>\n",
       "      <td>10/24/1979</td>\n",
       "      <td>53428.0</td>\n",
       "      <td>$52868.38</td>\n",
       "    </tr>\n",
       "    <tr>\n",
       "      <th>2</th>\n",
       "      <td>Aaron,Petra L</td>\n",
       "      <td>ASSISTANT STATE'S ATTORNEY</td>\n",
       "      <td>A29005</td>\n",
       "      <td>States Attorneys Office</td>\n",
       "      <td>09/25/2006</td>\n",
       "      <td>68300.0</td>\n",
       "      <td>$67439.19</td>\n",
       "    </tr>\n",
       "    <tr>\n",
       "      <th>3</th>\n",
       "      <td>Abaineh,Yohannes T</td>\n",
       "      <td>EPIDEMIOLOGIST</td>\n",
       "      <td>A65026</td>\n",
       "      <td>HLTH-Health Department</td>\n",
       "      <td>07/23/2009</td>\n",
       "      <td>62000.0</td>\n",
       "      <td>$58654.74</td>\n",
       "    </tr>\n",
       "    <tr>\n",
       "      <th>4</th>\n",
       "      <td>Abbene,Anthony M</td>\n",
       "      <td>POLICE OFFICER TRAINEE</td>\n",
       "      <td>A99416</td>\n",
       "      <td>Police Department</td>\n",
       "      <td>07/24/2013</td>\n",
       "      <td>43999.0</td>\n",
       "      <td>$39686.95</td>\n",
       "    </tr>\n",
       "    <tr>\n",
       "      <th>...</th>\n",
       "      <td>...</td>\n",
       "      <td>...</td>\n",
       "      <td>...</td>\n",
       "      <td>...</td>\n",
       "      <td>...</td>\n",
       "      <td>...</td>\n",
       "      <td>...</td>\n",
       "    </tr>\n",
       "    <tr>\n",
       "      <th>18976</th>\n",
       "      <td>Zotamou,Jean Marie D</td>\n",
       "      <td>AIDE BLUE CHIP</td>\n",
       "      <td>W02235</td>\n",
       "      <td>Youth Summer</td>\n",
       "      <td>05/21/2014</td>\n",
       "      <td>11310.0</td>\n",
       "      <td>NaN</td>\n",
       "    </tr>\n",
       "    <tr>\n",
       "      <th>18977</th>\n",
       "      <td>Zotamou,Pivot D</td>\n",
       "      <td>AIDE BLUE CHIP</td>\n",
       "      <td>W02629</td>\n",
       "      <td>Youth Summer</td>\n",
       "      <td>05/21/2014</td>\n",
       "      <td>11310.0</td>\n",
       "      <td>NaN</td>\n",
       "    </tr>\n",
       "    <tr>\n",
       "      <th>18978</th>\n",
       "      <td>Zovistoski,Zachary D</td>\n",
       "      <td>POLICE OFFICER TRAINEE</td>\n",
       "      <td>A99416</td>\n",
       "      <td>Police Department</td>\n",
       "      <td>12/17/2013</td>\n",
       "      <td>43999.0</td>\n",
       "      <td>$21070.03</td>\n",
       "    </tr>\n",
       "    <tr>\n",
       "      <th>18979</th>\n",
       "      <td>Zubyk,Stanislav T</td>\n",
       "      <td>POLICE OFFICER</td>\n",
       "      <td>A99262</td>\n",
       "      <td>Police Department</td>\n",
       "      <td>01/23/2013</td>\n",
       "      <td>44104.0</td>\n",
       "      <td>$48608.12</td>\n",
       "    </tr>\n",
       "    <tr>\n",
       "      <th>18980</th>\n",
       "      <td>Zukowski,Charles J</td>\n",
       "      <td>Waste Water Tech Supv I Pump</td>\n",
       "      <td>A50206</td>\n",
       "      <td>DPW-Water &amp; Waste Water</td>\n",
       "      <td>10/15/1979</td>\n",
       "      <td>53568.0</td>\n",
       "      <td>$52164.32</td>\n",
       "    </tr>\n",
       "  </tbody>\n",
       "</table>\n",
       "<p>18981 rows × 7 columns</p>\n",
       "</div>"
      ],
      "text/plain": [
       "                       Name                       JobTitle AgencyID  \\\n",
       "0           Aaron,Keontae E                 AIDE BLUE CHIP   W02200   \n",
       "1          Aaron,Patricia G  Facilities/Office Services II   A03031   \n",
       "2             Aaron,Petra L     ASSISTANT STATE'S ATTORNEY   A29005   \n",
       "3        Abaineh,Yohannes T                 EPIDEMIOLOGIST   A65026   \n",
       "4          Abbene,Anthony M         POLICE OFFICER TRAINEE   A99416   \n",
       "...                     ...                            ...      ...   \n",
       "18976  Zotamou,Jean Marie D                 AIDE BLUE CHIP   W02235   \n",
       "18977       Zotamou,Pivot D                 AIDE BLUE CHIP   W02629   \n",
       "18978  Zovistoski,Zachary D         POLICE OFFICER TRAINEE   A99416   \n",
       "18979     Zubyk,Stanislav T                 POLICE OFFICER   A99262   \n",
       "18980    Zukowski,Charles J   Waste Water Tech Supv I Pump   A50206   \n",
       "\n",
       "                         Agency    HireDate  AnnualSalary   GrossPay  \n",
       "0                Youth Summer    06/10/2013       11310.0    $873.63  \n",
       "1           OED-Employment Dev   10/24/1979       53428.0  $52868.38  \n",
       "2      States Attorneys Office   09/25/2006       68300.0  $67439.19  \n",
       "3       HLTH-Health Department   07/23/2009       62000.0  $58654.74  \n",
       "4            Police Department   07/24/2013       43999.0  $39686.95  \n",
       "...                         ...         ...           ...        ...  \n",
       "18976            Youth Summer    05/21/2014       11310.0        NaN  \n",
       "18977             Youth Summer   05/21/2014       11310.0        NaN  \n",
       "18978        Police Department   12/17/2013       43999.0  $21070.03  \n",
       "18979        Police Department   01/23/2013       44104.0  $48608.12  \n",
       "18980  DPW-Water & Waste Water   10/15/1979       53568.0  $52164.32  \n",
       "\n",
       "[18981 rows x 7 columns]"
      ]
     },
     "execution_count": 14,
     "metadata": {},
     "output_type": "execute_result"
    }
   ],
   "source": [
    "df"
   ]
  },
  {
   "cell_type": "code",
   "execution_count": 15,
   "id": "e5df473e",
   "metadata": {},
   "outputs": [
    {
     "data": {
      "text/plain": [
       " Name              0\n",
       "JobTitle           0\n",
       "AgencyID           0\n",
       "Agency             0\n",
       "HireDate          70\n",
       "AnnualSalary       0\n",
       "GrossPay        3223\n",
       "dtype: int64"
      ]
     },
     "execution_count": 15,
     "metadata": {},
     "output_type": "execute_result"
    }
   ],
   "source": [
    "df.isnull().sum()"
   ]
  },
  {
   "cell_type": "code",
   "execution_count": 16,
   "id": "d5e28170",
   "metadata": {},
   "outputs": [],
   "source": [
    "df['HireDate']=df['HireDate'].fillna(method='ffill')  #filling missing data"
   ]
  },
  {
   "cell_type": "code",
   "execution_count": 17,
   "id": "414a4aa5",
   "metadata": {},
   "outputs": [],
   "source": [
    "df.drop('GrossPay',axis=1,inplace=True)"
   ]
  },
  {
   "cell_type": "code",
   "execution_count": 18,
   "id": "55530c38",
   "metadata": {},
   "outputs": [
    {
     "data": {
      "text/plain": [
       " Name           0\n",
       "JobTitle        0\n",
       "AgencyID        0\n",
       "Agency          0\n",
       "HireDate        0\n",
       "AnnualSalary    0\n",
       "dtype: int64"
      ]
     },
     "execution_count": 18,
     "metadata": {},
     "output_type": "execute_result"
    }
   ],
   "source": [
    "df.isnull().sum()"
   ]
  },
  {
   "cell_type": "code",
   "execution_count": 19,
   "id": "f8ee1c5a",
   "metadata": {},
   "outputs": [
    {
     "data": {
      "text/plain": [
       "P04001    316\n",
       "C90786    276\n",
       "W02629    193\n",
       "P04002    191\n",
       "A99416    166\n",
       "         ... \n",
       "W02539      1\n",
       "A65052      1\n",
       "W02106      1\n",
       "W02590      1\n",
       "W02339      1\n",
       "Name: AgencyID, Length: 1177, dtype: int64"
      ]
     },
     "execution_count": 19,
     "metadata": {},
     "output_type": "execute_result"
    }
   ],
   "source": [
    "#which agency id has more hirings:\n",
    "\n",
    "\n",
    "df.AgencyID.value_counts()"
   ]
  },
  {
   "cell_type": "code",
   "execution_count": 20,
   "id": "60158235",
   "metadata": {},
   "outputs": [
    {
     "data": {
      "text/plain": [
       "Youth Summer                4323\n",
       "Police Department           3211\n",
       "Fire Department             1576\n",
       "DPW-Water & Waste Water     1491\n",
       "HLTH-Health Department       833\n",
       "                            ... \n",
       "Council Services               6\n",
       "HLTH-Health Dept Locatio       6\n",
       "Legislative Reference          5\n",
       "M-R Cable & Comm               4\n",
       "Special City Services          4\n",
       "Name: Agency, Length: 65, dtype: int64"
      ]
     },
     "execution_count": 20,
     "metadata": {},
     "output_type": "execute_result"
    }
   ],
   "source": [
    "df.Agency.value_counts()"
   ]
  },
  {
   "cell_type": "code",
   "execution_count": 21,
   "id": "bf593d5e",
   "metadata": {},
   "outputs": [
    {
     "data": {
      "text/plain": [
       "AIDE BLUE CHIP                    4817\n",
       "POLICE OFFICER                    1866\n",
       "LABORER (Hourly)                   597\n",
       "EMT Firefighter Suppression        358\n",
       "CROSSING GUARD                     337\n",
       "                                  ... \n",
       "VEHICLE DAMAGE INVESTIGATOR          1\n",
       "Community Health Nurse I             1\n",
       "ACCOUNTING SYSTEMS ANALYST           1\n",
       "DESK TOP PUBLISHING COORDINATO       1\n",
       "Research Analyst II                  1\n",
       "Name: JobTitle, Length: 1075, dtype: int64"
      ]
     },
     "execution_count": 21,
     "metadata": {},
     "output_type": "execute_result"
    }
   ],
   "source": [
    "df.JobTitle.value_counts()"
   ]
  },
  {
   "cell_type": "code",
   "execution_count": 22,
   "id": "b1aaccd3",
   "metadata": {},
   "outputs": [
    {
     "data": {
      "text/plain": [
       "Text(0.5, 1.0, 'Annual Salary Distribution Plot')"
      ]
     },
     "execution_count": 22,
     "metadata": {},
     "output_type": "execute_result"
    },
    {
     "data": {
      "image/png": "[encoded data removed]",
      "text/plain": [
       "<Figure size 640x480 with 1 Axes>"
      ]
     },
     "metadata": {},
     "output_type": "display_data"
    }
   ],
   "source": [
    "##nextt\n",
    "\n",
    "\n",
    "\n",
    "sns.distplot(df.AnnualSalary)\n",
    "plt.title('Annual Salary Distribution Plot', fontsize=15)"
   ]
  },
  {
   "cell_type": "code",
   "execution_count": 23,
   "id": "9f32fe9f",
   "metadata": {},
   "outputs": [
    {
     "data": {
      "text/plain": [
       "<AxesSubplot:>"
      ]
     },
     "execution_count": 23,
     "metadata": {},
     "output_type": "execute_result"
    },
    {
     "data": {
      "image/png": "[encoded data removed]",
      "text/plain": [
       "<Figure size 640x480 with 1 Axes>"
      ]
     },
     "metadata": {},
     "output_type": "display_data"
    }
   ],
   "source": [
    "df.AnnualSalary.plot.box()            #outliers (check)"
   ]
  },
  {
   "cell_type": "code",
   "execution_count": 24,
   "id": "6804759d",
   "metadata": {},
   "outputs": [
    {
     "data": {
      "text/plain": [
       "(18981, 6)"
      ]
     },
     "execution_count": 24,
     "metadata": {},
     "output_type": "execute_result"
    }
   ],
   "source": [
    "df.shape"
   ]
  },
  {
   "cell_type": "code",
   "execution_count": 25,
   "id": "6b4cf7f6",
   "metadata": {},
   "outputs": [],
   "source": [
    "#len(df[df['AnnualSalary']>150000])  #outliers"
   ]
  },
  {
   "cell_type": "code",
   "execution_count": 26,
   "id": "d6ad1302",
   "metadata": {},
   "outputs": [],
   "source": [
    "#df= df[df['AnnualSalary']<150000]"
   ]
  },
  {
   "cell_type": "code",
   "execution_count": 27,
   "id": "9da0ce8d",
   "metadata": {},
   "outputs": [],
   "source": [
    "#df.AnnualSalary.plot.box()"
   ]
  },
  {
   "cell_type": "code",
   "execution_count": 28,
   "id": "f8e29e67",
   "metadata": {},
   "outputs": [],
   "source": [
    "#len(df[df['AnnualSalary']>140000])  #outliers\n",
    "\n",
    "df=df[df['AnnualSalary']<140000]  #outliers are more reduced "
   ]
  },
  {
   "cell_type": "code",
   "execution_count": 29,
   "id": "88727baf",
   "metadata": {},
   "outputs": [
    {
     "data": {
      "text/plain": [
       "<AxesSubplot:>"
      ]
     },
     "execution_count": 29,
     "metadata": {},
     "output_type": "execute_result"
    },
    {
     "data": {
      "image/png": "[encoded data removed]",
      "text/plain": [
       "<Figure size 640x480 with 1 Axes>"
      ]
     },
     "metadata": {},
     "output_type": "display_data"
    }
   ],
   "source": [
    "df.AnnualSalary.plot.box()"
   ]
  },
  {
   "cell_type": "code",
   "execution_count": 30,
   "id": "756a634b",
   "metadata": {},
   "outputs": [],
   "source": [
    "df['HireDay']=df['HireDate'].apply(lambda x:int(str(x[3:5])))"
   ]
  },
  {
   "cell_type": "code",
   "execution_count": 31,
   "id": "8ac26106",
   "metadata": {},
   "outputs": [
    {
     "data": {
      "text/html": [
       "<div>\n",
       "<style scoped>\n",
       "    .dataframe tbody tr th:only-of-type {\n",
       "        vertical-align: middle;\n",
       "    }\n",
       "\n",
       "    .dataframe tbody tr th {\n",
       "        vertical-align: top;\n",
       "    }\n",
       "\n",
       "    .dataframe thead th {\n",
       "        text-align: right;\n",
       "    }\n",
       "</style>\n",
       "<table border=\"1\" class=\"dataframe\">\n",
       "  <thead>\n",
       "    <tr style=\"text-align: right;\">\n",
       "      <th></th>\n",
       "      <th>Name</th>\n",
       "      <th>JobTitle</th>\n",
       "      <th>AgencyID</th>\n",
       "      <th>Agency</th>\n",
       "      <th>HireDate</th>\n",
       "      <th>AnnualSalary</th>\n",
       "      <th>HireDay</th>\n",
       "    </tr>\n",
       "  </thead>\n",
       "  <tbody>\n",
       "    <tr>\n",
       "      <th>0</th>\n",
       "      <td>Aaron,Keontae E</td>\n",
       "      <td>AIDE BLUE CHIP</td>\n",
       "      <td>W02200</td>\n",
       "      <td>Youth Summer</td>\n",
       "      <td>06/10/2013</td>\n",
       "      <td>11310.0</td>\n",
       "      <td>10</td>\n",
       "    </tr>\n",
       "    <tr>\n",
       "      <th>1</th>\n",
       "      <td>Aaron,Patricia G</td>\n",
       "      <td>Facilities/Office Services II</td>\n",
       "      <td>A03031</td>\n",
       "      <td>OED-Employment Dev</td>\n",
       "      <td>10/24/1979</td>\n",
       "      <td>53428.0</td>\n",
       "      <td>24</td>\n",
       "    </tr>\n",
       "    <tr>\n",
       "      <th>2</th>\n",
       "      <td>Aaron,Petra L</td>\n",
       "      <td>ASSISTANT STATE'S ATTORNEY</td>\n",
       "      <td>A29005</td>\n",
       "      <td>States Attorneys Office</td>\n",
       "      <td>09/25/2006</td>\n",
       "      <td>68300.0</td>\n",
       "      <td>25</td>\n",
       "    </tr>\n",
       "    <tr>\n",
       "      <th>3</th>\n",
       "      <td>Abaineh,Yohannes T</td>\n",
       "      <td>EPIDEMIOLOGIST</td>\n",
       "      <td>A65026</td>\n",
       "      <td>HLTH-Health Department</td>\n",
       "      <td>07/23/2009</td>\n",
       "      <td>62000.0</td>\n",
       "      <td>23</td>\n",
       "    </tr>\n",
       "    <tr>\n",
       "      <th>4</th>\n",
       "      <td>Abbene,Anthony M</td>\n",
       "      <td>POLICE OFFICER TRAINEE</td>\n",
       "      <td>A99416</td>\n",
       "      <td>Police Department</td>\n",
       "      <td>07/24/2013</td>\n",
       "      <td>43999.0</td>\n",
       "      <td>24</td>\n",
       "    </tr>\n",
       "    <tr>\n",
       "      <th>...</th>\n",
       "      <td>...</td>\n",
       "      <td>...</td>\n",
       "      <td>...</td>\n",
       "      <td>...</td>\n",
       "      <td>...</td>\n",
       "      <td>...</td>\n",
       "      <td>...</td>\n",
       "    </tr>\n",
       "    <tr>\n",
       "      <th>18976</th>\n",
       "      <td>Zotamou,Jean Marie D</td>\n",
       "      <td>AIDE BLUE CHIP</td>\n",
       "      <td>W02235</td>\n",
       "      <td>Youth Summer</td>\n",
       "      <td>05/21/2014</td>\n",
       "      <td>11310.0</td>\n",
       "      <td>21</td>\n",
       "    </tr>\n",
       "    <tr>\n",
       "      <th>18977</th>\n",
       "      <td>Zotamou,Pivot D</td>\n",
       "      <td>AIDE BLUE CHIP</td>\n",
       "      <td>W02629</td>\n",
       "      <td>Youth Summer</td>\n",
       "      <td>05/21/2014</td>\n",
       "      <td>11310.0</td>\n",
       "      <td>21</td>\n",
       "    </tr>\n",
       "    <tr>\n",
       "      <th>18978</th>\n",
       "      <td>Zovistoski,Zachary D</td>\n",
       "      <td>POLICE OFFICER TRAINEE</td>\n",
       "      <td>A99416</td>\n",
       "      <td>Police Department</td>\n",
       "      <td>12/17/2013</td>\n",
       "      <td>43999.0</td>\n",
       "      <td>17</td>\n",
       "    </tr>\n",
       "    <tr>\n",
       "      <th>18979</th>\n",
       "      <td>Zubyk,Stanislav T</td>\n",
       "      <td>POLICE OFFICER</td>\n",
       "      <td>A99262</td>\n",
       "      <td>Police Department</td>\n",
       "      <td>01/23/2013</td>\n",
       "      <td>44104.0</td>\n",
       "      <td>23</td>\n",
       "    </tr>\n",
       "    <tr>\n",
       "      <th>18980</th>\n",
       "      <td>Zukowski,Charles J</td>\n",
       "      <td>Waste Water Tech Supv I Pump</td>\n",
       "      <td>A50206</td>\n",
       "      <td>DPW-Water &amp; Waste Water</td>\n",
       "      <td>10/15/1979</td>\n",
       "      <td>53568.0</td>\n",
       "      <td>15</td>\n",
       "    </tr>\n",
       "  </tbody>\n",
       "</table>\n",
       "<p>18955 rows × 7 columns</p>\n",
       "</div>"
      ],
      "text/plain": [
       "                       Name                       JobTitle AgencyID  \\\n",
       "0           Aaron,Keontae E                 AIDE BLUE CHIP   W02200   \n",
       "1          Aaron,Patricia G  Facilities/Office Services II   A03031   \n",
       "2             Aaron,Petra L     ASSISTANT STATE'S ATTORNEY   A29005   \n",
       "3        Abaineh,Yohannes T                 EPIDEMIOLOGIST   A65026   \n",
       "4          Abbene,Anthony M         POLICE OFFICER TRAINEE   A99416   \n",
       "...                     ...                            ...      ...   \n",
       "18976  Zotamou,Jean Marie D                 AIDE BLUE CHIP   W02235   \n",
       "18977       Zotamou,Pivot D                 AIDE BLUE CHIP   W02629   \n",
       "18978  Zovistoski,Zachary D         POLICE OFFICER TRAINEE   A99416   \n",
       "18979     Zubyk,Stanislav T                 POLICE OFFICER   A99262   \n",
       "18980    Zukowski,Charles J   Waste Water Tech Supv I Pump   A50206   \n",
       "\n",
       "                         Agency    HireDate  AnnualSalary  HireDay  \n",
       "0                Youth Summer    06/10/2013       11310.0       10  \n",
       "1           OED-Employment Dev   10/24/1979       53428.0       24  \n",
       "2      States Attorneys Office   09/25/2006       68300.0       25  \n",
       "3       HLTH-Health Department   07/23/2009       62000.0       23  \n",
       "4            Police Department   07/24/2013       43999.0       24  \n",
       "...                         ...         ...           ...      ...  \n",
       "18976            Youth Summer    05/21/2014       11310.0       21  \n",
       "18977             Youth Summer   05/21/2014       11310.0       21  \n",
       "18978        Police Department   12/17/2013       43999.0       17  \n",
       "18979        Police Department   01/23/2013       44104.0       23  \n",
       "18980  DPW-Water & Waste Water   10/15/1979       53568.0       15  \n",
       "\n",
       "[18955 rows x 7 columns]"
      ]
     },
     "execution_count": 31,
     "metadata": {},
     "output_type": "execute_result"
    }
   ],
   "source": [
    "df"
   ]
  },
  {
   "cell_type": "code",
   "execution_count": 33,
   "id": "fa6fe4a3",
   "metadata": {},
   "outputs": [],
   "source": [
    "df['Hireyear']=df['HireDate'].apply(lambda x:int(str(x[6:])))"
   ]
  },
  {
   "cell_type": "code",
   "execution_count": 34,
   "id": "cb09d91d",
   "metadata": {},
   "outputs": [
    {
     "data": {
      "text/html": [
       "<div>\n",
       "<style scoped>\n",
       "    .dataframe tbody tr th:only-of-type {\n",
       "        vertical-align: middle;\n",
       "    }\n",
       "\n",
       "    .dataframe tbody tr th {\n",
       "        vertical-align: top;\n",
       "    }\n",
       "\n",
       "    .dataframe thead th {\n",
       "        text-align: right;\n",
       "    }\n",
       "</style>\n",
       "<table border=\"1\" class=\"dataframe\">\n",
       "  <thead>\n",
       "    <tr style=\"text-align: right;\">\n",
       "      <th></th>\n",
       "      <th>Name</th>\n",
       "      <th>JobTitle</th>\n",
       "      <th>AgencyID</th>\n",
       "      <th>Agency</th>\n",
       "      <th>HireDate</th>\n",
       "      <th>AnnualSalary</th>\n",
       "      <th>HireDay</th>\n",
       "      <th>Hireyear</th>\n",
       "    </tr>\n",
       "  </thead>\n",
       "  <tbody>\n",
       "    <tr>\n",
       "      <th>0</th>\n",
       "      <td>Aaron,Keontae E</td>\n",
       "      <td>AIDE BLUE CHIP</td>\n",
       "      <td>W02200</td>\n",
       "      <td>Youth Summer</td>\n",
       "      <td>06/10/2013</td>\n",
       "      <td>11310.0</td>\n",
       "      <td>10</td>\n",
       "      <td>2013</td>\n",
       "    </tr>\n",
       "    <tr>\n",
       "      <th>1</th>\n",
       "      <td>Aaron,Patricia G</td>\n",
       "      <td>Facilities/Office Services II</td>\n",
       "      <td>A03031</td>\n",
       "      <td>OED-Employment Dev</td>\n",
       "      <td>10/24/1979</td>\n",
       "      <td>53428.0</td>\n",
       "      <td>24</td>\n",
       "      <td>1979</td>\n",
       "    </tr>\n",
       "    <tr>\n",
       "      <th>2</th>\n",
       "      <td>Aaron,Petra L</td>\n",
       "      <td>ASSISTANT STATE'S ATTORNEY</td>\n",
       "      <td>A29005</td>\n",
       "      <td>States Attorneys Office</td>\n",
       "      <td>09/25/2006</td>\n",
       "      <td>68300.0</td>\n",
       "      <td>25</td>\n",
       "      <td>2006</td>\n",
       "    </tr>\n",
       "    <tr>\n",
       "      <th>3</th>\n",
       "      <td>Abaineh,Yohannes T</td>\n",
       "      <td>EPIDEMIOLOGIST</td>\n",
       "      <td>A65026</td>\n",
       "      <td>HLTH-Health Department</td>\n",
       "      <td>07/23/2009</td>\n",
       "      <td>62000.0</td>\n",
       "      <td>23</td>\n",
       "      <td>2009</td>\n",
       "    </tr>\n",
       "    <tr>\n",
       "      <th>4</th>\n",
       "      <td>Abbene,Anthony M</td>\n",
       "      <td>POLICE OFFICER TRAINEE</td>\n",
       "      <td>A99416</td>\n",
       "      <td>Police Department</td>\n",
       "      <td>07/24/2013</td>\n",
       "      <td>43999.0</td>\n",
       "      <td>24</td>\n",
       "      <td>2013</td>\n",
       "    </tr>\n",
       "    <tr>\n",
       "      <th>...</th>\n",
       "      <td>...</td>\n",
       "      <td>...</td>\n",
       "      <td>...</td>\n",
       "      <td>...</td>\n",
       "      <td>...</td>\n",
       "      <td>...</td>\n",
       "      <td>...</td>\n",
       "      <td>...</td>\n",
       "    </tr>\n",
       "    <tr>\n",
       "      <th>18976</th>\n",
       "      <td>Zotamou,Jean Marie D</td>\n",
       "      <td>AIDE BLUE CHIP</td>\n",
       "      <td>W02235</td>\n",
       "      <td>Youth Summer</td>\n",
       "      <td>05/21/2014</td>\n",
       "      <td>11310.0</td>\n",
       "      <td>21</td>\n",
       "      <td>2014</td>\n",
       "    </tr>\n",
       "    <tr>\n",
       "      <th>18977</th>\n",
       "      <td>Zotamou,Pivot D</td>\n",
       "      <td>AIDE BLUE CHIP</td>\n",
       "      <td>W02629</td>\n",
       "      <td>Youth Summer</td>\n",
       "      <td>05/21/2014</td>\n",
       "      <td>11310.0</td>\n",
       "      <td>21</td>\n",
       "      <td>2014</td>\n",
       "    </tr>\n",
       "    <tr>\n",
       "      <th>18978</th>\n",
       "      <td>Zovistoski,Zachary D</td>\n",
       "      <td>POLICE OFFICER TRAINEE</td>\n",
       "      <td>A99416</td>\n",
       "      <td>Police Department</td>\n",
       "      <td>12/17/2013</td>\n",
       "      <td>43999.0</td>\n",
       "      <td>17</td>\n",
       "      <td>2013</td>\n",
       "    </tr>\n",
       "    <tr>\n",
       "      <th>18979</th>\n",
       "      <td>Zubyk,Stanislav T</td>\n",
       "      <td>POLICE OFFICER</td>\n",
       "      <td>A99262</td>\n",
       "      <td>Police Department</td>\n",
       "      <td>01/23/2013</td>\n",
       "      <td>44104.0</td>\n",
       "      <td>23</td>\n",
       "      <td>2013</td>\n",
       "    </tr>\n",
       "    <tr>\n",
       "      <th>18980</th>\n",
       "      <td>Zukowski,Charles J</td>\n",
       "      <td>Waste Water Tech Supv I Pump</td>\n",
       "      <td>A50206</td>\n",
       "      <td>DPW-Water &amp; Waste Water</td>\n",
       "      <td>10/15/1979</td>\n",
       "      <td>53568.0</td>\n",
       "      <td>15</td>\n",
       "      <td>1979</td>\n",
       "    </tr>\n",
       "  </tbody>\n",
       "</table>\n",
       "<p>18955 rows × 8 columns</p>\n",
       "</div>"
      ],
      "text/plain": [
       "                       Name                       JobTitle AgencyID  \\\n",
       "0           Aaron,Keontae E                 AIDE BLUE CHIP   W02200   \n",
       "1          Aaron,Patricia G  Facilities/Office Services II   A03031   \n",
       "2             Aaron,Petra L     ASSISTANT STATE'S ATTORNEY   A29005   \n",
       "3        Abaineh,Yohannes T                 EPIDEMIOLOGIST   A65026   \n",
       "4          Abbene,Anthony M         POLICE OFFICER TRAINEE   A99416   \n",
       "...                     ...                            ...      ...   \n",
       "18976  Zotamou,Jean Marie D                 AIDE BLUE CHIP   W02235   \n",
       "18977       Zotamou,Pivot D                 AIDE BLUE CHIP   W02629   \n",
       "18978  Zovistoski,Zachary D         POLICE OFFICER TRAINEE   A99416   \n",
       "18979     Zubyk,Stanislav T                 POLICE OFFICER   A99262   \n",
       "18980    Zukowski,Charles J   Waste Water Tech Supv I Pump   A50206   \n",
       "\n",
       "                         Agency    HireDate  AnnualSalary  HireDay  Hireyear  \n",
       "0                Youth Summer    06/10/2013       11310.0       10      2013  \n",
       "1           OED-Employment Dev   10/24/1979       53428.0       24      1979  \n",
       "2      States Attorneys Office   09/25/2006       68300.0       25      2006  \n",
       "3       HLTH-Health Department   07/23/2009       62000.0       23      2009  \n",
       "4            Police Department   07/24/2013       43999.0       24      2013  \n",
       "...                         ...         ...           ...      ...       ...  \n",
       "18976            Youth Summer    05/21/2014       11310.0       21      2014  \n",
       "18977             Youth Summer   05/21/2014       11310.0       21      2014  \n",
       "18978        Police Department   12/17/2013       43999.0       17      2013  \n",
       "18979        Police Department   01/23/2013       44104.0       23      2013  \n",
       "18980  DPW-Water & Waste Water   10/15/1979       53568.0       15      1979  \n",
       "\n",
       "[18955 rows x 8 columns]"
      ]
     },
     "execution_count": 34,
     "metadata": {},
     "output_type": "execute_result"
    }
   ],
   "source": [
    "df"
   ]
  },
  {
   "cell_type": "code",
   "execution_count": 36,
   "id": "aa49dd22",
   "metadata": {},
   "outputs": [
    {
     "data": {
      "text/plain": [
       "<AxesSubplot:xlabel='JobTitle'>"
      ]
     },
     "execution_count": 36,
     "metadata": {},
     "output_type": "execute_result"
    },
    {
     "data": {
      "image/png": "[encoded data removed]",
      "text/plain": [
       "<Figure size 640x480 with 1 Axes>"
      ]
     },
     "metadata": {},
     "output_type": "display_data"
    }
   ],
   "source": [
    "######EDA\n",
    "\n",
    "#Top 10 jobs based on hirings\n",
    "df.groupby(['JobTitle'])[' Name'].count().sort_values(ascending=False).head(10).plot.bar()"
   ]
  },
  {
   "cell_type": "code",
   "execution_count": 37,
   "id": "24ce2840",
   "metadata": {},
   "outputs": [
    {
     "data": {
      "text/plain": [
       "<AxesSubplot:xlabel='Agency'>"
      ]
     },
     "execution_count": 37,
     "metadata": {},
     "output_type": "execute_result"
    },
    {
     "data": {
      "image/png": "[encoded data removed]",
      "text/plain": [
       "<Figure size 640x480 with 1 Axes>"
      ]
     },
     "metadata": {},
     "output_type": "display_data"
    }
   ],
   "source": [
    "####top 10 jobs that is getting the highest salary\n",
    "\n",
    "##top agencies with higher number of employees\n",
    "\n",
    "df.groupby(['Agency'])[' Name'].count().sort_values(ascending=False).head(10).plot.bar()"
   ]
  },
  {
   "cell_type": "code",
   "execution_count": 38,
   "id": "20e22ed6",
   "metadata": {},
   "outputs": [
    {
     "data": {
      "text/plain": [
       "<AxesSubplot:xlabel='AgencyID'>"
      ]
     },
     "execution_count": 38,
     "metadata": {},
     "output_type": "execute_result"
    },
    {
     "data": {
      "image/png": "[encoded data removed]",
      "text/plain": [
       "<Figure size 640x480 with 1 Axes>"
      ]
     },
     "metadata": {},
     "output_type": "display_data"
    }
   ],
   "source": [
    "df.groupby(['AgencyID'])[' Name'].count().sort_values(ascending=False).head(10).plot.bar()"
   ]
  },
  {
   "cell_type": "code",
   "execution_count": 42,
   "id": "74c53f21",
   "metadata": {},
   "outputs": [],
   "source": [
    "## The jobs whose average pay is more than total average salary of entire data\n",
    "mean_job=df.AnnualSalary.mean()\n",
    "good_paying_jobs=df.groupby(['JobTitle'])['AnnualSalary'].mean().reset_index()"
   ]
  },
  {
   "cell_type": "code",
   "execution_count": 43,
   "id": "e6c02192",
   "metadata": {},
   "outputs": [
    {
     "data": {
      "text/html": [
       "<div>\n",
       "<style scoped>\n",
       "    .dataframe tbody tr th:only-of-type {\n",
       "        vertical-align: middle;\n",
       "    }\n",
       "\n",
       "    .dataframe tbody tr th {\n",
       "        vertical-align: top;\n",
       "    }\n",
       "\n",
       "    .dataframe thead th {\n",
       "        text-align: right;\n",
       "    }\n",
       "</style>\n",
       "<table border=\"1\" class=\"dataframe\">\n",
       "  <thead>\n",
       "    <tr style=\"text-align: right;\">\n",
       "      <th></th>\n",
       "      <th>JobTitle</th>\n",
       "      <th>AnnualSalary</th>\n",
       "    </tr>\n",
       "  </thead>\n",
       "  <tbody>\n",
       "    <tr>\n",
       "      <th>0</th>\n",
       "      <td>911 LEAD OPERATOR</td>\n",
       "      <td>47886.000000</td>\n",
       "    </tr>\n",
       "    <tr>\n",
       "      <th>1</th>\n",
       "      <td>911 OPERATOR</td>\n",
       "      <td>42835.743590</td>\n",
       "    </tr>\n",
       "    <tr>\n",
       "      <th>2</th>\n",
       "      <td>911 OPERATOR SUPERVISOR</td>\n",
       "      <td>54797.500000</td>\n",
       "    </tr>\n",
       "    <tr>\n",
       "      <th>3</th>\n",
       "      <td>ACCOUNT EXECUTIVE</td>\n",
       "      <td>42960.000000</td>\n",
       "    </tr>\n",
       "    <tr>\n",
       "      <th>4</th>\n",
       "      <td>ACCOUNTANT I</td>\n",
       "      <td>46316.642857</td>\n",
       "    </tr>\n",
       "    <tr>\n",
       "      <th>...</th>\n",
       "      <td>...</td>\n",
       "      <td>...</td>\n",
       "    </tr>\n",
       "    <tr>\n",
       "      <th>1064</th>\n",
       "      <td>ZONING ADMINISTRATOR</td>\n",
       "      <td>82100.000000</td>\n",
       "    </tr>\n",
       "    <tr>\n",
       "      <th>1065</th>\n",
       "      <td>ZONING APPEALS ADVISOR BMZA</td>\n",
       "      <td>59274.000000</td>\n",
       "    </tr>\n",
       "    <tr>\n",
       "      <th>1066</th>\n",
       "      <td>ZONING ENFORCEMENT OFFICER</td>\n",
       "      <td>62000.000000</td>\n",
       "    </tr>\n",
       "    <tr>\n",
       "      <th>1067</th>\n",
       "      <td>ZONING EXAMINER I</td>\n",
       "      <td>43674.000000</td>\n",
       "    </tr>\n",
       "    <tr>\n",
       "      <th>1068</th>\n",
       "      <td>ZONING EXAMINER II</td>\n",
       "      <td>53568.000000</td>\n",
       "    </tr>\n",
       "  </tbody>\n",
       "</table>\n",
       "<p>1069 rows × 2 columns</p>\n",
       "</div>"
      ],
      "text/plain": [
       "                         JobTitle  AnnualSalary\n",
       "0               911 LEAD OPERATOR  47886.000000\n",
       "1                    911 OPERATOR  42835.743590\n",
       "2         911 OPERATOR SUPERVISOR  54797.500000\n",
       "3               ACCOUNT EXECUTIVE  42960.000000\n",
       "4                    ACCOUNTANT I  46316.642857\n",
       "...                           ...           ...\n",
       "1064         ZONING ADMINISTRATOR  82100.000000\n",
       "1065  ZONING APPEALS ADVISOR BMZA  59274.000000\n",
       "1066   ZONING ENFORCEMENT OFFICER  62000.000000\n",
       "1067            ZONING EXAMINER I  43674.000000\n",
       "1068           ZONING EXAMINER II  53568.000000\n",
       "\n",
       "[1069 rows x 2 columns]"
      ]
     },
     "execution_count": 43,
     "metadata": {},
     "output_type": "execute_result"
    }
   ],
   "source": [
    "good_paying_jobs"
   ]
  },
  {
   "cell_type": "code",
   "execution_count": 45,
   "id": "c647035c",
   "metadata": {},
   "outputs": [
    {
     "data": {
      "text/plain": [
       "807"
      ]
     },
     "execution_count": 45,
     "metadata": {},
     "output_type": "execute_result"
    }
   ],
   "source": [
    "good_paying_jobs[good_paying_jobs['AnnualSalary']>mean_job]['JobTitle'].count()"
   ]
  },
  {
   "cell_type": "code",
   "execution_count": 46,
   "id": "9b47842f",
   "metadata": {},
   "outputs": [
    {
     "data": {
      "text/plain": [
       "1069"
      ]
     },
     "execution_count": 46,
     "metadata": {},
     "output_type": "execute_result"
    }
   ],
   "source": [
    "len(df.JobTitle.unique())"
   ]
  },
  {
   "cell_type": "code",
   "execution_count": 47,
   "id": "d36c4c47",
   "metadata": {},
   "outputs": [
    {
     "data": {
      "text/plain": [
       "Index([' Name', 'JobTitle', 'AgencyID', 'Agency', 'HireDate', 'AnnualSalary',\n",
       "       'HireDay', 'Hireyear'],\n",
       "      dtype='object')"
      ]
     },
     "execution_count": 47,
     "metadata": {},
     "output_type": "execute_result"
    }
   ],
   "source": [
    "df.columns"
   ]
  },
  {
   "cell_type": "code",
   "execution_count": 48,
   "id": "3ea6b81a",
   "metadata": {},
   "outputs": [
    {
     "data": {
      "text/plain": [
       "<seaborn.axisgrid.PairGrid at 0x25b07f493a0>"
      ]
     },
     "execution_count": 48,
     "metadata": {},
     "output_type": "execute_result"
    },
    {
     "data": {
      "image/png": "[encoded data removed]",
      "text/plain": [
       "<Figure size 750x750 with 12 Axes>"
      ]
     },
     "metadata": {},
     "output_type": "display_data"
    }
   ],
   "source": [
    "sns.pairplot(df)"
   ]
  },
  {
   "cell_type": "code",
   "execution_count": 49,
   "id": "8f5b7932",
   "metadata": {},
   "outputs": [
    {
     "data": {
      "text/plain": [
       "<AxesSubplot:>"
      ]
     },
     "execution_count": 49,
     "metadata": {},
     "output_type": "execute_result"
    },
    {
     "data": {
      "image/png": "[encoded data removed]",
      "text/plain": [
       "<Figure size 1000x500 with 2 Axes>"
      ]
     },
     "metadata": {},
     "output_type": "display_data"
    }
   ],
   "source": [
    "## plot a heatmap\n",
    "plt.figure(figsize=(10,5))\n",
    "sns.heatmap(df.corr(),annot=True)"
   ]
  },
  {
   "cell_type": "code",
   "execution_count": 50,
   "id": "0c7491e2",
   "metadata": {},
   "outputs": [],
   "source": [
    "###############################Feature engineering####################################################"
   ]
  },
  {
   "cell_type": "code",
   "execution_count": 51,
   "id": "3e4aedbe",
   "metadata": {},
   "outputs": [
    {
     "data": {
      "text/html": [
       "<div>\n",
       "<style scoped>\n",
       "    .dataframe tbody tr th:only-of-type {\n",
       "        vertical-align: middle;\n",
       "    }\n",
       "\n",
       "    .dataframe tbody tr th {\n",
       "        vertical-align: top;\n",
       "    }\n",
       "\n",
       "    .dataframe thead th {\n",
       "        text-align: right;\n",
       "    }\n",
       "</style>\n",
       "<table border=\"1\" class=\"dataframe\">\n",
       "  <thead>\n",
       "    <tr style=\"text-align: right;\">\n",
       "      <th></th>\n",
       "      <th>Name</th>\n",
       "      <th>JobTitle</th>\n",
       "      <th>AgencyID</th>\n",
       "      <th>Agency</th>\n",
       "      <th>HireDate</th>\n",
       "      <th>AnnualSalary</th>\n",
       "      <th>HireDay</th>\n",
       "      <th>Hireyear</th>\n",
       "    </tr>\n",
       "  </thead>\n",
       "  <tbody>\n",
       "    <tr>\n",
       "      <th>0</th>\n",
       "      <td>Aaron,Keontae E</td>\n",
       "      <td>AIDE BLUE CHIP</td>\n",
       "      <td>W02200</td>\n",
       "      <td>Youth Summer</td>\n",
       "      <td>06/10/2013</td>\n",
       "      <td>11310.0</td>\n",
       "      <td>10</td>\n",
       "      <td>2013</td>\n",
       "    </tr>\n",
       "    <tr>\n",
       "      <th>1</th>\n",
       "      <td>Aaron,Patricia G</td>\n",
       "      <td>Facilities/Office Services II</td>\n",
       "      <td>A03031</td>\n",
       "      <td>OED-Employment Dev</td>\n",
       "      <td>10/24/1979</td>\n",
       "      <td>53428.0</td>\n",
       "      <td>24</td>\n",
       "      <td>1979</td>\n",
       "    </tr>\n",
       "    <tr>\n",
       "      <th>2</th>\n",
       "      <td>Aaron,Petra L</td>\n",
       "      <td>ASSISTANT STATE'S ATTORNEY</td>\n",
       "      <td>A29005</td>\n",
       "      <td>States Attorneys Office</td>\n",
       "      <td>09/25/2006</td>\n",
       "      <td>68300.0</td>\n",
       "      <td>25</td>\n",
       "      <td>2006</td>\n",
       "    </tr>\n",
       "    <tr>\n",
       "      <th>3</th>\n",
       "      <td>Abaineh,Yohannes T</td>\n",
       "      <td>EPIDEMIOLOGIST</td>\n",
       "      <td>A65026</td>\n",
       "      <td>HLTH-Health Department</td>\n",
       "      <td>07/23/2009</td>\n",
       "      <td>62000.0</td>\n",
       "      <td>23</td>\n",
       "      <td>2009</td>\n",
       "    </tr>\n",
       "    <tr>\n",
       "      <th>4</th>\n",
       "      <td>Abbene,Anthony M</td>\n",
       "      <td>POLICE OFFICER TRAINEE</td>\n",
       "      <td>A99416</td>\n",
       "      <td>Police Department</td>\n",
       "      <td>07/24/2013</td>\n",
       "      <td>43999.0</td>\n",
       "      <td>24</td>\n",
       "      <td>2013</td>\n",
       "    </tr>\n",
       "    <tr>\n",
       "      <th>...</th>\n",
       "      <td>...</td>\n",
       "      <td>...</td>\n",
       "      <td>...</td>\n",
       "      <td>...</td>\n",
       "      <td>...</td>\n",
       "      <td>...</td>\n",
       "      <td>...</td>\n",
       "      <td>...</td>\n",
       "    </tr>\n",
       "    <tr>\n",
       "      <th>18976</th>\n",
       "      <td>Zotamou,Jean Marie D</td>\n",
       "      <td>AIDE BLUE CHIP</td>\n",
       "      <td>W02235</td>\n",
       "      <td>Youth Summer</td>\n",
       "      <td>05/21/2014</td>\n",
       "      <td>11310.0</td>\n",
       "      <td>21</td>\n",
       "      <td>2014</td>\n",
       "    </tr>\n",
       "    <tr>\n",
       "      <th>18977</th>\n",
       "      <td>Zotamou,Pivot D</td>\n",
       "      <td>AIDE BLUE CHIP</td>\n",
       "      <td>W02629</td>\n",
       "      <td>Youth Summer</td>\n",
       "      <td>05/21/2014</td>\n",
       "      <td>11310.0</td>\n",
       "      <td>21</td>\n",
       "      <td>2014</td>\n",
       "    </tr>\n",
       "    <tr>\n",
       "      <th>18978</th>\n",
       "      <td>Zovistoski,Zachary D</td>\n",
       "      <td>POLICE OFFICER TRAINEE</td>\n",
       "      <td>A99416</td>\n",
       "      <td>Police Department</td>\n",
       "      <td>12/17/2013</td>\n",
       "      <td>43999.0</td>\n",
       "      <td>17</td>\n",
       "      <td>2013</td>\n",
       "    </tr>\n",
       "    <tr>\n",
       "      <th>18979</th>\n",
       "      <td>Zubyk,Stanislav T</td>\n",
       "      <td>POLICE OFFICER</td>\n",
       "      <td>A99262</td>\n",
       "      <td>Police Department</td>\n",
       "      <td>01/23/2013</td>\n",
       "      <td>44104.0</td>\n",
       "      <td>23</td>\n",
       "      <td>2013</td>\n",
       "    </tr>\n",
       "    <tr>\n",
       "      <th>18980</th>\n",
       "      <td>Zukowski,Charles J</td>\n",
       "      <td>Waste Water Tech Supv I Pump</td>\n",
       "      <td>A50206</td>\n",
       "      <td>DPW-Water &amp; Waste Water</td>\n",
       "      <td>10/15/1979</td>\n",
       "      <td>53568.0</td>\n",
       "      <td>15</td>\n",
       "      <td>1979</td>\n",
       "    </tr>\n",
       "  </tbody>\n",
       "</table>\n",
       "<p>18955 rows × 8 columns</p>\n",
       "</div>"
      ],
      "text/plain": [
       "                       Name                       JobTitle AgencyID  \\\n",
       "0           Aaron,Keontae E                 AIDE BLUE CHIP   W02200   \n",
       "1          Aaron,Patricia G  Facilities/Office Services II   A03031   \n",
       "2             Aaron,Petra L     ASSISTANT STATE'S ATTORNEY   A29005   \n",
       "3        Abaineh,Yohannes T                 EPIDEMIOLOGIST   A65026   \n",
       "4          Abbene,Anthony M         POLICE OFFICER TRAINEE   A99416   \n",
       "...                     ...                            ...      ...   \n",
       "18976  Zotamou,Jean Marie D                 AIDE BLUE CHIP   W02235   \n",
       "18977       Zotamou,Pivot D                 AIDE BLUE CHIP   W02629   \n",
       "18978  Zovistoski,Zachary D         POLICE OFFICER TRAINEE   A99416   \n",
       "18979     Zubyk,Stanislav T                 POLICE OFFICER   A99262   \n",
       "18980    Zukowski,Charles J   Waste Water Tech Supv I Pump   A50206   \n",
       "\n",
       "                         Agency    HireDate  AnnualSalary  HireDay  Hireyear  \n",
       "0                Youth Summer    06/10/2013       11310.0       10      2013  \n",
       "1           OED-Employment Dev   10/24/1979       53428.0       24      1979  \n",
       "2      States Attorneys Office   09/25/2006       68300.0       25      2006  \n",
       "3       HLTH-Health Department   07/23/2009       62000.0       23      2009  \n",
       "4            Police Department   07/24/2013       43999.0       24      2013  \n",
       "...                         ...         ...           ...      ...       ...  \n",
       "18976            Youth Summer    05/21/2014       11310.0       21      2014  \n",
       "18977             Youth Summer   05/21/2014       11310.0       21      2014  \n",
       "18978        Police Department   12/17/2013       43999.0       17      2013  \n",
       "18979        Police Department   01/23/2013       44104.0       23      2013  \n",
       "18980  DPW-Water & Waste Water   10/15/1979       53568.0       15      1979  \n",
       "\n",
       "[18955 rows x 8 columns]"
      ]
     },
     "execution_count": 51,
     "metadata": {},
     "output_type": "execute_result"
    }
   ],
   "source": [
    "df"
   ]
  },
  {
   "cell_type": "code",
   "execution_count": 52,
   "id": "f2b2e38e",
   "metadata": {},
   "outputs": [],
   "source": [
    "mean_job = df.groupby(['JobTitle'])['AnnualSalary'].mean()\n",
    "df['JobTitle'] = df['JobTitle'].map(mean_job)"
   ]
  },
  {
   "cell_type": "code",
   "execution_count": 53,
   "id": "7b839761",
   "metadata": {},
   "outputs": [
    {
     "data": {
      "text/html": [
       "<div>\n",
       "<style scoped>\n",
       "    .dataframe tbody tr th:only-of-type {\n",
       "        vertical-align: middle;\n",
       "    }\n",
       "\n",
       "    .dataframe tbody tr th {\n",
       "        vertical-align: top;\n",
       "    }\n",
       "\n",
       "    .dataframe thead th {\n",
       "        text-align: right;\n",
       "    }\n",
       "</style>\n",
       "<table border=\"1\" class=\"dataframe\">\n",
       "  <thead>\n",
       "    <tr style=\"text-align: right;\">\n",
       "      <th></th>\n",
       "      <th>Name</th>\n",
       "      <th>JobTitle</th>\n",
       "      <th>AgencyID</th>\n",
       "      <th>Agency</th>\n",
       "      <th>HireDate</th>\n",
       "      <th>AnnualSalary</th>\n",
       "      <th>HireDay</th>\n",
       "      <th>Hireyear</th>\n",
       "    </tr>\n",
       "  </thead>\n",
       "  <tbody>\n",
       "    <tr>\n",
       "      <th>0</th>\n",
       "      <td>Aaron,Keontae E</td>\n",
       "      <td>11313.967200</td>\n",
       "      <td>W02200</td>\n",
       "      <td>Youth Summer</td>\n",
       "      <td>06/10/2013</td>\n",
       "      <td>11310.0</td>\n",
       "      <td>10</td>\n",
       "      <td>2013</td>\n",
       "    </tr>\n",
       "    <tr>\n",
       "      <th>1</th>\n",
       "      <td>Aaron,Patricia G</td>\n",
       "      <td>47443.500000</td>\n",
       "      <td>A03031</td>\n",
       "      <td>OED-Employment Dev</td>\n",
       "      <td>10/24/1979</td>\n",
       "      <td>53428.0</td>\n",
       "      <td>24</td>\n",
       "      <td>1979</td>\n",
       "    </tr>\n",
       "    <tr>\n",
       "      <th>2</th>\n",
       "      <td>Aaron,Petra L</td>\n",
       "      <td>69750.666667</td>\n",
       "      <td>A29005</td>\n",
       "      <td>States Attorneys Office</td>\n",
       "      <td>09/25/2006</td>\n",
       "      <td>68300.0</td>\n",
       "      <td>25</td>\n",
       "      <td>2006</td>\n",
       "    </tr>\n",
       "    <tr>\n",
       "      <th>3</th>\n",
       "      <td>Abaineh,Yohannes T</td>\n",
       "      <td>57940.000000</td>\n",
       "      <td>A65026</td>\n",
       "      <td>HLTH-Health Department</td>\n",
       "      <td>07/23/2009</td>\n",
       "      <td>62000.0</td>\n",
       "      <td>23</td>\n",
       "      <td>2009</td>\n",
       "    </tr>\n",
       "    <tr>\n",
       "      <th>4</th>\n",
       "      <td>Abbene,Anthony M</td>\n",
       "      <td>44531.160494</td>\n",
       "      <td>A99416</td>\n",
       "      <td>Police Department</td>\n",
       "      <td>07/24/2013</td>\n",
       "      <td>43999.0</td>\n",
       "      <td>24</td>\n",
       "      <td>2013</td>\n",
       "    </tr>\n",
       "    <tr>\n",
       "      <th>...</th>\n",
       "      <td>...</td>\n",
       "      <td>...</td>\n",
       "      <td>...</td>\n",
       "      <td>...</td>\n",
       "      <td>...</td>\n",
       "      <td>...</td>\n",
       "      <td>...</td>\n",
       "      <td>...</td>\n",
       "    </tr>\n",
       "    <tr>\n",
       "      <th>18976</th>\n",
       "      <td>Zotamou,Jean Marie D</td>\n",
       "      <td>11313.967200</td>\n",
       "      <td>W02235</td>\n",
       "      <td>Youth Summer</td>\n",
       "      <td>05/21/2014</td>\n",
       "      <td>11310.0</td>\n",
       "      <td>21</td>\n",
       "      <td>2014</td>\n",
       "    </tr>\n",
       "    <tr>\n",
       "      <th>18977</th>\n",
       "      <td>Zotamou,Pivot D</td>\n",
       "      <td>11313.967200</td>\n",
       "      <td>W02629</td>\n",
       "      <td>Youth Summer</td>\n",
       "      <td>05/21/2014</td>\n",
       "      <td>11310.0</td>\n",
       "      <td>21</td>\n",
       "      <td>2014</td>\n",
       "    </tr>\n",
       "    <tr>\n",
       "      <th>18978</th>\n",
       "      <td>Zovistoski,Zachary D</td>\n",
       "      <td>44531.160494</td>\n",
       "      <td>A99416</td>\n",
       "      <td>Police Department</td>\n",
       "      <td>12/17/2013</td>\n",
       "      <td>43999.0</td>\n",
       "      <td>17</td>\n",
       "      <td>2013</td>\n",
       "    </tr>\n",
       "    <tr>\n",
       "      <th>18979</th>\n",
       "      <td>Zubyk,Stanislav T</td>\n",
       "      <td>60588.139335</td>\n",
       "      <td>A99262</td>\n",
       "      <td>Police Department</td>\n",
       "      <td>01/23/2013</td>\n",
       "      <td>44104.0</td>\n",
       "      <td>23</td>\n",
       "      <td>2013</td>\n",
       "    </tr>\n",
       "    <tr>\n",
       "      <th>18980</th>\n",
       "      <td>Zukowski,Charles J</td>\n",
       "      <td>53368.428571</td>\n",
       "      <td>A50206</td>\n",
       "      <td>DPW-Water &amp; Waste Water</td>\n",
       "      <td>10/15/1979</td>\n",
       "      <td>53568.0</td>\n",
       "      <td>15</td>\n",
       "      <td>1979</td>\n",
       "    </tr>\n",
       "  </tbody>\n",
       "</table>\n",
       "<p>18955 rows × 8 columns</p>\n",
       "</div>"
      ],
      "text/plain": [
       "                       Name      JobTitle AgencyID                    Agency  \\\n",
       "0           Aaron,Keontae E  11313.967200   W02200            Youth Summer     \n",
       "1          Aaron,Patricia G  47443.500000   A03031       OED-Employment Dev    \n",
       "2             Aaron,Petra L  69750.666667   A29005  States Attorneys Office    \n",
       "3        Abaineh,Yohannes T  57940.000000   A65026   HLTH-Health Department    \n",
       "4          Abbene,Anthony M  44531.160494   A99416        Police Department    \n",
       "...                     ...           ...      ...                       ...   \n",
       "18976  Zotamou,Jean Marie D  11313.967200   W02235            Youth Summer     \n",
       "18977       Zotamou,Pivot D  11313.967200   W02629             Youth Summer    \n",
       "18978  Zovistoski,Zachary D  44531.160494   A99416        Police Department    \n",
       "18979     Zubyk,Stanislav T  60588.139335   A99262        Police Department    \n",
       "18980    Zukowski,Charles J  53368.428571   A50206  DPW-Water & Waste Water    \n",
       "\n",
       "         HireDate  AnnualSalary  HireDay  Hireyear  \n",
       "0      06/10/2013       11310.0       10      2013  \n",
       "1      10/24/1979       53428.0       24      1979  \n",
       "2      09/25/2006       68300.0       25      2006  \n",
       "3      07/23/2009       62000.0       23      2009  \n",
       "4      07/24/2013       43999.0       24      2013  \n",
       "...           ...           ...      ...       ...  \n",
       "18976  05/21/2014       11310.0       21      2014  \n",
       "18977  05/21/2014       11310.0       21      2014  \n",
       "18978  12/17/2013       43999.0       17      2013  \n",
       "18979  01/23/2013       44104.0       23      2013  \n",
       "18980  10/15/1979       53568.0       15      1979  \n",
       "\n",
       "[18955 rows x 8 columns]"
      ]
     },
     "execution_count": 53,
     "metadata": {},
     "output_type": "execute_result"
    }
   ],
   "source": [
    "df"
   ]
  },
  {
   "cell_type": "code",
   "execution_count": 54,
   "id": "17dce01c",
   "metadata": {},
   "outputs": [],
   "source": [
    "mean_agency = df.groupby(['Agency'])['AnnualSalary'].mean()\n",
    "df['Agency'] = df['Agency'].map(mean_agency)"
   ]
  },
  {
   "cell_type": "code",
   "execution_count": 55,
   "id": "96f3c110",
   "metadata": {},
   "outputs": [],
   "source": [
    "mean_agencyid = df.groupby(['AgencyID'])['AnnualSalary'].mean()\n",
    "df['AgencyID'] = df['AgencyID'].map(mean_agencyid)"
   ]
  },
  {
   "cell_type": "code",
   "execution_count": 56,
   "id": "656fcd39",
   "metadata": {},
   "outputs": [
    {
     "data": {
      "text/html": [
       "<div>\n",
       "<style scoped>\n",
       "    .dataframe tbody tr th:only-of-type {\n",
       "        vertical-align: middle;\n",
       "    }\n",
       "\n",
       "    .dataframe tbody tr th {\n",
       "        vertical-align: top;\n",
       "    }\n",
       "\n",
       "    .dataframe thead th {\n",
       "        text-align: right;\n",
       "    }\n",
       "</style>\n",
       "<table border=\"1\" class=\"dataframe\">\n",
       "  <thead>\n",
       "    <tr style=\"text-align: right;\">\n",
       "      <th></th>\n",
       "      <th>Name</th>\n",
       "      <th>JobTitle</th>\n",
       "      <th>AgencyID</th>\n",
       "      <th>Agency</th>\n",
       "      <th>HireDate</th>\n",
       "      <th>AnnualSalary</th>\n",
       "      <th>HireDay</th>\n",
       "      <th>Hireyear</th>\n",
       "    </tr>\n",
       "  </thead>\n",
       "  <tbody>\n",
       "    <tr>\n",
       "      <th>0</th>\n",
       "      <td>Aaron,Keontae E</td>\n",
       "      <td>11313.967200</td>\n",
       "      <td>11310.000000</td>\n",
       "      <td>11310.270645</td>\n",
       "      <td>06/10/2013</td>\n",
       "      <td>11310.0</td>\n",
       "      <td>10</td>\n",
       "      <td>2013</td>\n",
       "    </tr>\n",
       "    <tr>\n",
       "      <th>1</th>\n",
       "      <td>Aaron,Patricia G</td>\n",
       "      <td>47443.500000</td>\n",
       "      <td>46667.000000</td>\n",
       "      <td>51495.424242</td>\n",
       "      <td>10/24/1979</td>\n",
       "      <td>53428.0</td>\n",
       "      <td>24</td>\n",
       "      <td>1979</td>\n",
       "    </tr>\n",
       "    <tr>\n",
       "      <th>2</th>\n",
       "      <td>Aaron,Petra L</td>\n",
       "      <td>69750.666667</td>\n",
       "      <td>65926.133333</td>\n",
       "      <td>64874.560224</td>\n",
       "      <td>09/25/2006</td>\n",
       "      <td>68300.0</td>\n",
       "      <td>25</td>\n",
       "      <td>2006</td>\n",
       "    </tr>\n",
       "    <tr>\n",
       "      <th>3</th>\n",
       "      <td>Abaineh,Yohannes T</td>\n",
       "      <td>57940.000000</td>\n",
       "      <td>48071.851064</td>\n",
       "      <td>39980.900360</td>\n",
       "      <td>07/23/2009</td>\n",
       "      <td>62000.0</td>\n",
       "      <td>23</td>\n",
       "      <td>2009</td>\n",
       "    </tr>\n",
       "    <tr>\n",
       "      <th>4</th>\n",
       "      <td>Abbene,Anthony M</td>\n",
       "      <td>44531.160494</td>\n",
       "      <td>44012.307229</td>\n",
       "      <td>61575.070137</td>\n",
       "      <td>07/24/2013</td>\n",
       "      <td>43999.0</td>\n",
       "      <td>24</td>\n",
       "      <td>2013</td>\n",
       "    </tr>\n",
       "    <tr>\n",
       "      <th>...</th>\n",
       "      <td>...</td>\n",
       "      <td>...</td>\n",
       "      <td>...</td>\n",
       "      <td>...</td>\n",
       "      <td>...</td>\n",
       "      <td>...</td>\n",
       "      <td>...</td>\n",
       "      <td>...</td>\n",
       "    </tr>\n",
       "    <tr>\n",
       "      <th>18976</th>\n",
       "      <td>Zotamou,Jean Marie D</td>\n",
       "      <td>11313.967200</td>\n",
       "      <td>11310.000000</td>\n",
       "      <td>11310.270645</td>\n",
       "      <td>05/21/2014</td>\n",
       "      <td>11310.0</td>\n",
       "      <td>21</td>\n",
       "      <td>2014</td>\n",
       "    </tr>\n",
       "    <tr>\n",
       "      <th>18977</th>\n",
       "      <td>Zotamou,Pivot D</td>\n",
       "      <td>11313.967200</td>\n",
       "      <td>11310.000000</td>\n",
       "      <td>11346.315789</td>\n",
       "      <td>05/21/2014</td>\n",
       "      <td>11310.0</td>\n",
       "      <td>21</td>\n",
       "      <td>2014</td>\n",
       "    </tr>\n",
       "    <tr>\n",
       "      <th>18978</th>\n",
       "      <td>Zovistoski,Zachary D</td>\n",
       "      <td>44531.160494</td>\n",
       "      <td>44012.307229</td>\n",
       "      <td>61575.070137</td>\n",
       "      <td>12/17/2013</td>\n",
       "      <td>43999.0</td>\n",
       "      <td>17</td>\n",
       "      <td>2013</td>\n",
       "    </tr>\n",
       "    <tr>\n",
       "      <th>18979</th>\n",
       "      <td>Zubyk,Stanislav T</td>\n",
       "      <td>60588.139335</td>\n",
       "      <td>60203.340426</td>\n",
       "      <td>61575.070137</td>\n",
       "      <td>01/23/2013</td>\n",
       "      <td>44104.0</td>\n",
       "      <td>23</td>\n",
       "      <td>2013</td>\n",
       "    </tr>\n",
       "    <tr>\n",
       "      <th>18980</th>\n",
       "      <td>Zukowski,Charles J</td>\n",
       "      <td>53368.428571</td>\n",
       "      <td>42407.562500</td>\n",
       "      <td>42565.513078</td>\n",
       "      <td>10/15/1979</td>\n",
       "      <td>53568.0</td>\n",
       "      <td>15</td>\n",
       "      <td>1979</td>\n",
       "    </tr>\n",
       "  </tbody>\n",
       "</table>\n",
       "<p>18955 rows × 8 columns</p>\n",
       "</div>"
      ],
      "text/plain": [
       "                       Name      JobTitle      AgencyID        Agency  \\\n",
       "0           Aaron,Keontae E  11313.967200  11310.000000  11310.270645   \n",
       "1          Aaron,Patricia G  47443.500000  46667.000000  51495.424242   \n",
       "2             Aaron,Petra L  69750.666667  65926.133333  64874.560224   \n",
       "3        Abaineh,Yohannes T  57940.000000  48071.851064  39980.900360   \n",
       "4          Abbene,Anthony M  44531.160494  44012.307229  61575.070137   \n",
       "...                     ...           ...           ...           ...   \n",
       "18976  Zotamou,Jean Marie D  11313.967200  11310.000000  11310.270645   \n",
       "18977       Zotamou,Pivot D  11313.967200  11310.000000  11346.315789   \n",
       "18978  Zovistoski,Zachary D  44531.160494  44012.307229  61575.070137   \n",
       "18979     Zubyk,Stanislav T  60588.139335  60203.340426  61575.070137   \n",
       "18980    Zukowski,Charles J  53368.428571  42407.562500  42565.513078   \n",
       "\n",
       "         HireDate  AnnualSalary  HireDay  Hireyear  \n",
       "0      06/10/2013       11310.0       10      2013  \n",
       "1      10/24/1979       53428.0       24      1979  \n",
       "2      09/25/2006       68300.0       25      2006  \n",
       "3      07/23/2009       62000.0       23      2009  \n",
       "4      07/24/2013       43999.0       24      2013  \n",
       "...           ...           ...      ...       ...  \n",
       "18976  05/21/2014       11310.0       21      2014  \n",
       "18977  05/21/2014       11310.0       21      2014  \n",
       "18978  12/17/2013       43999.0       17      2013  \n",
       "18979  01/23/2013       44104.0       23      2013  \n",
       "18980  10/15/1979       53568.0       15      1979  \n",
       "\n",
       "[18955 rows x 8 columns]"
      ]
     },
     "execution_count": 56,
     "metadata": {},
     "output_type": "execute_result"
    }
   ],
   "source": [
    "df"
   ]
  },
  {
   "cell_type": "code",
   "execution_count": 58,
   "id": "87d915d8",
   "metadata": {},
   "outputs": [],
   "source": [
    "df = df.drop(['HireDate',' Name'],axis=1)"
   ]
  },
  {
   "cell_type": "code",
   "execution_count": 59,
   "id": "521f048f",
   "metadata": {},
   "outputs": [
    {
     "data": {
      "text/html": [
       "<div>\n",
       "<style scoped>\n",
       "    .dataframe tbody tr th:only-of-type {\n",
       "        vertical-align: middle;\n",
       "    }\n",
       "\n",
       "    .dataframe tbody tr th {\n",
       "        vertical-align: top;\n",
       "    }\n",
       "\n",
       "    .dataframe thead th {\n",
       "        text-align: right;\n",
       "    }\n",
       "</style>\n",
       "<table border=\"1\" class=\"dataframe\">\n",
       "  <thead>\n",
       "    <tr style=\"text-align: right;\">\n",
       "      <th></th>\n",
       "      <th>JobTitle</th>\n",
       "      <th>AgencyID</th>\n",
       "      <th>Agency</th>\n",
       "      <th>AnnualSalary</th>\n",
       "      <th>HireDay</th>\n",
       "      <th>Hireyear</th>\n",
       "    </tr>\n",
       "  </thead>\n",
       "  <tbody>\n",
       "    <tr>\n",
       "      <th>0</th>\n",
       "      <td>11313.967200</td>\n",
       "      <td>11310.000000</td>\n",
       "      <td>11310.270645</td>\n",
       "      <td>11310.0</td>\n",
       "      <td>10</td>\n",
       "      <td>2013</td>\n",
       "    </tr>\n",
       "    <tr>\n",
       "      <th>1</th>\n",
       "      <td>47443.500000</td>\n",
       "      <td>46667.000000</td>\n",
       "      <td>51495.424242</td>\n",
       "      <td>53428.0</td>\n",
       "      <td>24</td>\n",
       "      <td>1979</td>\n",
       "    </tr>\n",
       "    <tr>\n",
       "      <th>2</th>\n",
       "      <td>69750.666667</td>\n",
       "      <td>65926.133333</td>\n",
       "      <td>64874.560224</td>\n",
       "      <td>68300.0</td>\n",
       "      <td>25</td>\n",
       "      <td>2006</td>\n",
       "    </tr>\n",
       "    <tr>\n",
       "      <th>3</th>\n",
       "      <td>57940.000000</td>\n",
       "      <td>48071.851064</td>\n",
       "      <td>39980.900360</td>\n",
       "      <td>62000.0</td>\n",
       "      <td>23</td>\n",
       "      <td>2009</td>\n",
       "    </tr>\n",
       "    <tr>\n",
       "      <th>4</th>\n",
       "      <td>44531.160494</td>\n",
       "      <td>44012.307229</td>\n",
       "      <td>61575.070137</td>\n",
       "      <td>43999.0</td>\n",
       "      <td>24</td>\n",
       "      <td>2013</td>\n",
       "    </tr>\n",
       "    <tr>\n",
       "      <th>...</th>\n",
       "      <td>...</td>\n",
       "      <td>...</td>\n",
       "      <td>...</td>\n",
       "      <td>...</td>\n",
       "      <td>...</td>\n",
       "      <td>...</td>\n",
       "    </tr>\n",
       "    <tr>\n",
       "      <th>18976</th>\n",
       "      <td>11313.967200</td>\n",
       "      <td>11310.000000</td>\n",
       "      <td>11310.270645</td>\n",
       "      <td>11310.0</td>\n",
       "      <td>21</td>\n",
       "      <td>2014</td>\n",
       "    </tr>\n",
       "    <tr>\n",
       "      <th>18977</th>\n",
       "      <td>11313.967200</td>\n",
       "      <td>11310.000000</td>\n",
       "      <td>11346.315789</td>\n",
       "      <td>11310.0</td>\n",
       "      <td>21</td>\n",
       "      <td>2014</td>\n",
       "    </tr>\n",
       "    <tr>\n",
       "      <th>18978</th>\n",
       "      <td>44531.160494</td>\n",
       "      <td>44012.307229</td>\n",
       "      <td>61575.070137</td>\n",
       "      <td>43999.0</td>\n",
       "      <td>17</td>\n",
       "      <td>2013</td>\n",
       "    </tr>\n",
       "    <tr>\n",
       "      <th>18979</th>\n",
       "      <td>60588.139335</td>\n",
       "      <td>60203.340426</td>\n",
       "      <td>61575.070137</td>\n",
       "      <td>44104.0</td>\n",
       "      <td>23</td>\n",
       "      <td>2013</td>\n",
       "    </tr>\n",
       "    <tr>\n",
       "      <th>18980</th>\n",
       "      <td>53368.428571</td>\n",
       "      <td>42407.562500</td>\n",
       "      <td>42565.513078</td>\n",
       "      <td>53568.0</td>\n",
       "      <td>15</td>\n",
       "      <td>1979</td>\n",
       "    </tr>\n",
       "  </tbody>\n",
       "</table>\n",
       "<p>18955 rows × 6 columns</p>\n",
       "</div>"
      ],
      "text/plain": [
       "           JobTitle      AgencyID        Agency  AnnualSalary  HireDay  \\\n",
       "0      11313.967200  11310.000000  11310.270645       11310.0       10   \n",
       "1      47443.500000  46667.000000  51495.424242       53428.0       24   \n",
       "2      69750.666667  65926.133333  64874.560224       68300.0       25   \n",
       "3      57940.000000  48071.851064  39980.900360       62000.0       23   \n",
       "4      44531.160494  44012.307229  61575.070137       43999.0       24   \n",
       "...             ...           ...           ...           ...      ...   \n",
       "18976  11313.967200  11310.000000  11310.270645       11310.0       21   \n",
       "18977  11313.967200  11310.000000  11346.315789       11310.0       21   \n",
       "18978  44531.160494  44012.307229  61575.070137       43999.0       17   \n",
       "18979  60588.139335  60203.340426  61575.070137       44104.0       23   \n",
       "18980  53368.428571  42407.562500  42565.513078       53568.0       15   \n",
       "\n",
       "       Hireyear  \n",
       "0          2013  \n",
       "1          1979  \n",
       "2          2006  \n",
       "3          2009  \n",
       "4          2013  \n",
       "...         ...  \n",
       "18976      2014  \n",
       "18977      2014  \n",
       "18978      2013  \n",
       "18979      2013  \n",
       "18980      1979  \n",
       "\n",
       "[18955 rows x 6 columns]"
      ]
     },
     "execution_count": 59,
     "metadata": {},
     "output_type": "execute_result"
    }
   ],
   "source": [
    "df"
   ]
  },
  {
   "cell_type": "code",
   "execution_count": 60,
   "id": "479e394c",
   "metadata": {},
   "outputs": [],
   "source": [
    "### \n",
    "train, test = train_test_split(df,train_size=0.7,random_state=42)"
   ]
  },
  {
   "cell_type": "code",
   "execution_count": 61,
   "id": "8d6c423f",
   "metadata": {},
   "outputs": [
    {
     "name": "stdout",
     "output_type": "stream",
     "text": [
      "(13268, 6)\n"
     ]
    }
   ],
   "source": [
    "print(train.shape)"
   ]
  },
  {
   "cell_type": "code",
   "execution_count": 62,
   "id": "1b378bcf",
   "metadata": {},
   "outputs": [
    {
     "data": {
      "text/plain": [
       "(5687, 6)"
      ]
     },
     "execution_count": 62,
     "metadata": {},
     "output_type": "execute_result"
    }
   ],
   "source": [
    "test.shape"
   ]
  },
  {
   "cell_type": "code",
   "execution_count": 63,
   "id": "3c88bb2f",
   "metadata": {},
   "outputs": [],
   "source": [
    "y_train = train.pop(\"AnnualSalary\")\n",
    "x_train = train"
   ]
  },
  {
   "cell_type": "code",
   "execution_count": 64,
   "id": "f39afa9f",
   "metadata": {},
   "outputs": [],
   "source": [
    "y_test = test.pop(\"AnnualSalary\")\n",
    "x_test = test"
   ]
  },
  {
   "cell_type": "code",
   "execution_count": 65,
   "id": "5a07ca25",
   "metadata": {},
   "outputs": [
    {
     "data": {
      "text/html": [
       "<div>\n",
       "<style scoped>\n",
       "    .dataframe tbody tr th:only-of-type {\n",
       "        vertical-align: middle;\n",
       "    }\n",
       "\n",
       "    .dataframe tbody tr th {\n",
       "        vertical-align: top;\n",
       "    }\n",
       "\n",
       "    .dataframe thead th {\n",
       "        text-align: right;\n",
       "    }\n",
       "</style>\n",
       "<table border=\"1\" class=\"dataframe\">\n",
       "  <thead>\n",
       "    <tr style=\"text-align: right;\">\n",
       "      <th></th>\n",
       "      <th>JobTitle</th>\n",
       "      <th>AgencyID</th>\n",
       "      <th>Agency</th>\n",
       "      <th>HireDay</th>\n",
       "      <th>Hireyear</th>\n",
       "    </tr>\n",
       "  </thead>\n",
       "  <tbody>\n",
       "    <tr>\n",
       "      <th>12254</th>\n",
       "      <td>60588.139335</td>\n",
       "      <td>58642.057692</td>\n",
       "      <td>61575.070137</td>\n",
       "      <td>5</td>\n",
       "      <td>2007</td>\n",
       "    </tr>\n",
       "    <tr>\n",
       "      <th>16780</th>\n",
       "      <td>30643.613636</td>\n",
       "      <td>40772.250000</td>\n",
       "      <td>39950.622030</td>\n",
       "      <td>26</td>\n",
       "      <td>2004</td>\n",
       "    </tr>\n",
       "    <tr>\n",
       "      <th>8258</th>\n",
       "      <td>11313.967200</td>\n",
       "      <td>11310.000000</td>\n",
       "      <td>11310.270645</td>\n",
       "      <td>12</td>\n",
       "      <td>2012</td>\n",
       "    </tr>\n",
       "    <tr>\n",
       "      <th>16229</th>\n",
       "      <td>30472.508475</td>\n",
       "      <td>34247.775510</td>\n",
       "      <td>34172.489691</td>\n",
       "      <td>30</td>\n",
       "      <td>2008</td>\n",
       "    </tr>\n",
       "    <tr>\n",
       "      <th>14077</th>\n",
       "      <td>21570.423841</td>\n",
       "      <td>31520.387097</td>\n",
       "      <td>33920.215385</td>\n",
       "      <td>5</td>\n",
       "      <td>2012</td>\n",
       "    </tr>\n",
       "    <tr>\n",
       "      <th>...</th>\n",
       "      <td>...</td>\n",
       "      <td>...</td>\n",
       "      <td>...</td>\n",
       "      <td>...</td>\n",
       "      <td>...</td>\n",
       "    </tr>\n",
       "    <tr>\n",
       "      <th>1189</th>\n",
       "      <td>23309.565217</td>\n",
       "      <td>22019.629747</td>\n",
       "      <td>21236.522682</td>\n",
       "      <td>7</td>\n",
       "      <td>2011</td>\n",
       "    </tr>\n",
       "    <tr>\n",
       "      <th>15501</th>\n",
       "      <td>42835.743590</td>\n",
       "      <td>43675.954023</td>\n",
       "      <td>48931.949458</td>\n",
       "      <td>20</td>\n",
       "      <td>1997</td>\n",
       "    </tr>\n",
       "    <tr>\n",
       "      <th>6890</th>\n",
       "      <td>70763.333333</td>\n",
       "      <td>71421.038462</td>\n",
       "      <td>61575.070137</td>\n",
       "      <td>26</td>\n",
       "      <td>2007</td>\n",
       "    </tr>\n",
       "    <tr>\n",
       "      <th>14859</th>\n",
       "      <td>35290.283422</td>\n",
       "      <td>34028.074074</td>\n",
       "      <td>44092.921659</td>\n",
       "      <td>9</td>\n",
       "      <td>1990</td>\n",
       "    </tr>\n",
       "    <tr>\n",
       "      <th>14254</th>\n",
       "      <td>29925.666667</td>\n",
       "      <td>31048.722222</td>\n",
       "      <td>31594.490526</td>\n",
       "      <td>27</td>\n",
       "      <td>2006</td>\n",
       "    </tr>\n",
       "  </tbody>\n",
       "</table>\n",
       "<p>5687 rows × 5 columns</p>\n",
       "</div>"
      ],
      "text/plain": [
       "           JobTitle      AgencyID        Agency  HireDay  Hireyear\n",
       "12254  60588.139335  58642.057692  61575.070137        5      2007\n",
       "16780  30643.613636  40772.250000  39950.622030       26      2004\n",
       "8258   11313.967200  11310.000000  11310.270645       12      2012\n",
       "16229  30472.508475  34247.775510  34172.489691       30      2008\n",
       "14077  21570.423841  31520.387097  33920.215385        5      2012\n",
       "...             ...           ...           ...      ...       ...\n",
       "1189   23309.565217  22019.629747  21236.522682        7      2011\n",
       "15501  42835.743590  43675.954023  48931.949458       20      1997\n",
       "6890   70763.333333  71421.038462  61575.070137       26      2007\n",
       "14859  35290.283422  34028.074074  44092.921659        9      1990\n",
       "14254  29925.666667  31048.722222  31594.490526       27      2006\n",
       "\n",
       "[5687 rows x 5 columns]"
      ]
     },
     "execution_count": 65,
     "metadata": {},
     "output_type": "execute_result"
    }
   ],
   "source": [
    "x_test"
   ]
  },
  {
   "cell_type": "code",
   "execution_count": 66,
   "id": "a67fcb22",
   "metadata": {},
   "outputs": [],
   "source": [
    "## scale\n",
    "from sklearn.preprocessing import StandardScaler\n",
    "scaler = StandardScaler()\n",
    "x_train[x_train.columns] = scaler.fit_transform(x_train[x_train.columns])"
   ]
  },
  {
   "cell_type": "code",
   "execution_count": 67,
   "id": "d7aab6fe",
   "metadata": {},
   "outputs": [
    {
     "data": {
      "text/html": [
       "<div>\n",
       "<style scoped>\n",
       "    .dataframe tbody tr th:only-of-type {\n",
       "        vertical-align: middle;\n",
       "    }\n",
       "\n",
       "    .dataframe tbody tr th {\n",
       "        vertical-align: top;\n",
       "    }\n",
       "\n",
       "    .dataframe thead th {\n",
       "        text-align: right;\n",
       "    }\n",
       "</style>\n",
       "<table border=\"1\" class=\"dataframe\">\n",
       "  <thead>\n",
       "    <tr style=\"text-align: right;\">\n",
       "      <th></th>\n",
       "      <th>JobTitle</th>\n",
       "      <th>AgencyID</th>\n",
       "      <th>Agency</th>\n",
       "      <th>HireDay</th>\n",
       "      <th>Hireyear</th>\n",
       "    </tr>\n",
       "  </thead>\n",
       "  <tbody>\n",
       "    <tr>\n",
       "      <th>count</th>\n",
       "      <td>1.326800e+04</td>\n",
       "      <td>1.326800e+04</td>\n",
       "      <td>1.326800e+04</td>\n",
       "      <td>1.326800e+04</td>\n",
       "      <td>1.326800e+04</td>\n",
       "    </tr>\n",
       "    <tr>\n",
       "      <th>mean</th>\n",
       "      <td>3.875990e-16</td>\n",
       "      <td>-1.975775e-16</td>\n",
       "      <td>4.680459e-16</td>\n",
       "      <td>2.873710e-16</td>\n",
       "      <td>-1.069455e-14</td>\n",
       "    </tr>\n",
       "    <tr>\n",
       "      <th>std</th>\n",
       "      <td>1.000038e+00</td>\n",
       "      <td>1.000038e+00</td>\n",
       "      <td>1.000038e+00</td>\n",
       "      <td>1.000038e+00</td>\n",
       "      <td>1.000038e+00</td>\n",
       "    </tr>\n",
       "    <tr>\n",
       "      <th>min</th>\n",
       "      <td>-1.628872e+00</td>\n",
       "      <td>-1.691083e+00</td>\n",
       "      <td>-1.396684e+00</td>\n",
       "      <td>-1.760987e+00</td>\n",
       "      <td>-4.978800e+00</td>\n",
       "    </tr>\n",
       "    <tr>\n",
       "      <th>25%</th>\n",
       "      <td>-1.163646e+00</td>\n",
       "      <td>-1.272358e+00</td>\n",
       "      <td>-1.343687e+00</td>\n",
       "      <td>-8.065389e-01</td>\n",
       "      <td>-5.717941e-01</td>\n",
       "    </tr>\n",
       "    <tr>\n",
       "      <th>50%</th>\n",
       "      <td>-1.476768e-01</td>\n",
       "      <td>8.975670e-02</td>\n",
       "      <td>1.444805e-01</td>\n",
       "      <td>2.860360e-02</td>\n",
       "      <td>2.904461e-01</td>\n",
       "    </tr>\n",
       "    <tr>\n",
       "      <th>75%</th>\n",
       "      <td>8.624882e-01</td>\n",
       "      <td>9.090018e-01</td>\n",
       "      <td>1.050635e+00</td>\n",
       "      <td>7.444400e-01</td>\n",
       "      <td>8.652729e-01</td>\n",
       "    </tr>\n",
       "    <tr>\n",
       "      <th>max</th>\n",
       "      <td>3.872931e+00</td>\n",
       "      <td>2.874863e+00</td>\n",
       "      <td>1.954996e+00</td>\n",
       "      <td>1.818195e+00</td>\n",
       "      <td>9.610774e-01</td>\n",
       "    </tr>\n",
       "  </tbody>\n",
       "</table>\n",
       "</div>"
      ],
      "text/plain": [
       "           JobTitle      AgencyID        Agency       HireDay      Hireyear\n",
       "count  1.326800e+04  1.326800e+04  1.326800e+04  1.326800e+04  1.326800e+04\n",
       "mean   3.875990e-16 -1.975775e-16  4.680459e-16  2.873710e-16 -1.069455e-14\n",
       "std    1.000038e+00  1.000038e+00  1.000038e+00  1.000038e+00  1.000038e+00\n",
       "min   -1.628872e+00 -1.691083e+00 -1.396684e+00 -1.760987e+00 -4.978800e+00\n",
       "25%   -1.163646e+00 -1.272358e+00 -1.343687e+00 -8.065389e-01 -5.717941e-01\n",
       "50%   -1.476768e-01  8.975670e-02  1.444805e-01  2.860360e-02  2.904461e-01\n",
       "75%    8.624882e-01  9.090018e-01  1.050635e+00  7.444400e-01  8.652729e-01\n",
       "max    3.872931e+00  2.874863e+00  1.954996e+00  1.818195e+00  9.610774e-01"
      ]
     },
     "execution_count": 67,
     "metadata": {},
     "output_type": "execute_result"
    }
   ],
   "source": [
    "x_train.describe()"
   ]
  },
  {
   "cell_type": "code",
   "execution_count": 68,
   "id": "f1e46fff",
   "metadata": {},
   "outputs": [],
   "source": [
    "x_test[x_test.columns] = scaler.fit_transform(x_test[x_test.columns])"
   ]
  },
  {
   "cell_type": "code",
   "execution_count": 69,
   "id": "9dd645b4",
   "metadata": {},
   "outputs": [],
   "source": [
    "lr = LinearRegression()\n",
    "salary_reg = lr.fit(x_train,y_train)"
   ]
  },
  {
   "cell_type": "code",
   "execution_count": 70,
   "id": "6a028329",
   "metadata": {},
   "outputs": [
    {
     "data": {
      "text/plain": [
       "0.9652936949136576"
      ]
     },
     "execution_count": 70,
     "metadata": {},
     "output_type": "execute_result"
    }
   ],
   "source": [
    "salary_reg.score(x_train,y_train)"
   ]
  },
  {
   "cell_type": "code",
   "execution_count": 71,
   "id": "9c4563df",
   "metadata": {},
   "outputs": [],
   "source": [
    "y_pred = salary_reg.predict(x_test)"
   ]
  },
  {
   "cell_type": "code",
   "execution_count": 72,
   "id": "bfa964dd",
   "metadata": {},
   "outputs": [
    {
     "data": {
      "text/plain": [
       "12254    60598.0\n",
       "16780    31740.0\n",
       "8258     11310.0\n",
       "16229    31427.0\n",
       "14077    20800.0\n",
       "          ...   \n",
       "1189     20800.0\n",
       "15501    45477.0\n",
       "6890     71444.0\n",
       "14859    36203.0\n",
       "14254    29245.0\n",
       "Name: AnnualSalary, Length: 5687, dtype: float64"
      ]
     },
     "execution_count": 72,
     "metadata": {},
     "output_type": "execute_result"
    }
   ],
   "source": [
    "y_test"
   ]
  },
  {
   "cell_type": "code",
   "execution_count": 73,
   "id": "aa9ac6ae",
   "metadata": {},
   "outputs": [
    {
     "data": {
      "text/plain": [
       "array([59061.51527768, 31545.55835778, 10815.87278885, ...,\n",
       "       70016.68323452, 37607.77670212, 29970.74249789])"
      ]
     },
     "execution_count": 73,
     "metadata": {},
     "output_type": "execute_result"
    }
   ],
   "source": [
    "y_pred"
   ]
  },
  {
   "cell_type": "code",
   "execution_count": 74,
   "id": "56b53904",
   "metadata": {},
   "outputs": [
    {
     "data": {
      "text/plain": [
       "array([ 2.23106101e+04,  2.74562552e+03, -1.79253138e+03, -2.04014394e+01,\n",
       "       -2.12917138e+03])"
      ]
     },
     "execution_count": 74,
     "metadata": {},
     "output_type": "execute_result"
    }
   ],
   "source": [
    "salary_reg.coef_"
   ]
  },
  {
   "cell_type": "code",
   "execution_count": 75,
   "id": "b1565eb2",
   "metadata": {},
   "outputs": [
    {
     "data": {
      "text/plain": [
       "39615.733070545655"
      ]
     },
     "execution_count": 75,
     "metadata": {},
     "output_type": "execute_result"
    }
   ],
   "source": [
    "salary_reg.intercept_"
   ]
  },
  {
   "cell_type": "code",
   "execution_count": 76,
   "id": "6086a308",
   "metadata": {},
   "outputs": [
    {
     "data": {
      "text/plain": [
       "'39615.733070545655 + 22310.610119596644 * JobTitle + 2745.6255180126004 * AgencyID + -1792.5313826483257 * Agency + -20.401439351605887 * HireDay + -2129.1713771772006 * Hireyear'"
      ]
     },
     "execution_count": 76,
     "metadata": {},
     "output_type": "execute_result"
    }
   ],
   "source": [
    "model = str(salary_reg.intercept_)\n",
    "for i in range(len(salary_reg.coef_)):\n",
    "    model = model + ' + ' +(str(salary_reg.coef_[i])) +' * ' + (str(x_train.columns[i]))\n",
    "model    "
   ]
  },
  {
   "cell_type": "code",
   "execution_count": 77,
   "id": "10128df8",
   "metadata": {},
   "outputs": [
    {
     "data": {
      "text/plain": [
       "0.9657337496101575"
      ]
     },
     "execution_count": 77,
     "metadata": {},
     "output_type": "execute_result"
    }
   ],
   "source": [
    "from sklearn.metrics import r2_score\n",
    "r2_score(y_test,y_pred)"
   ]
  }
 ],
 "metadata": {
  "kernelspec": {
   "display_name": "Python 3 (ipykernel)",
   "language": "python",
   "name": "python3"
  },
  "language_info": {
   "codemirror_mode": {
    "name": "ipython",
    "version": 3
   },
   "file_extension": ".py",
   "mimetype": "text/x-python",
   "name": "python",
   "nbconvert_exporter": "python",
   "pygments_lexer": "ipython3",
   "version": "3.9.13"
  }
 },
 "nbformat": 4,
 "nbformat_minor": 5
}
